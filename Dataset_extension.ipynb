{
  "nbformat": 4,
  "nbformat_minor": 0,
  "metadata": {
    "colab": {
      "provenance": [],
      "authorship_tag": "ABX9TyNdoayNam8AwraDafa11abw",
      "include_colab_link": true
    },
    "kernelspec": {
      "name": "python3",
      "display_name": "Python 3"
    },
    "language_info": {
      "name": "python"
    }
  },
  "cells": [
    {
      "cell_type": "markdown",
      "metadata": {
        "id": "view-in-github",
        "colab_type": "text"
      },
      "source": [
        "<a href=\"https://colab.research.google.com/github/maancham/Research-Materials/blob/main/Dataset_extension.ipynb\" target=\"_parent\"><img src=\"https://colab.research.google.com/assets/colab-badge.svg\" alt=\"Open In Colab\"/></a>"
      ]
    },
    {
      "cell_type": "code",
      "execution_count": 36,
      "metadata": {
        "colab": {
          "base_uri": "https://localhost:8080/"
        },
        "id": "RqTAskSFsRtk",
        "outputId": "66955ff3-dc7b-4751-cc97-1aa696143a68"
      },
      "outputs": [
        {
          "output_type": "stream",
          "name": "stdout",
          "text": [
            "Drive already mounted at /content/drive; to attempt to forcibly remount, call drive.mount(\"/content/drive\", force_remount=True).\n"
          ]
        }
      ],
      "source": [
        "import pandas as pd\n",
        "import numpy as np\n",
        "import re\n",
        "\n",
        "from google.colab import drive\n",
        "drive.mount('/content/drive')"
      ]
    },
    {
      "cell_type": "code",
      "source": [
        "%%capture\n",
        "!pip install wget\n",
        "!pip install csv2tsv\n",
        "import wget"
      ],
      "metadata": {
        "id": "efyMNjclszbP"
      },
      "execution_count": 17,
      "outputs": []
    },
    {
      "cell_type": "markdown",
      "source": [
        "### ML-100k, for testing"
      ],
      "metadata": {
        "id": "W8GgSMkQsipx"
      }
    },
    {
      "cell_type": "code",
      "source": [
        "%%capture\n",
        "wget.download('https://files.grouplens.org/datasets/movielens/ml-latest-small.zip')\n",
        "!unzip ml-latest-small.zip"
      ],
      "metadata": {
        "id": "9f3oOJa-s6MI"
      },
      "execution_count": 5,
      "outputs": []
    },
    {
      "cell_type": "code",
      "source": [
        "small_df = pd.read_csv('/content/ml-latest-small/ratings.csv')\n",
        "\n",
        "new_user_df = pd.read_csv('/content/drive/MyDrive/research/new user ratings/new_user_houmch.csv', \n",
        "                          index_col=0)\n",
        "new_ratings = new_user_df[['userId', 'movieId', 'rating', 'timestamp']]"
      ],
      "metadata": {
        "id": "mSS1hdhCsopm"
      },
      "execution_count": 14,
      "outputs": []
    },
    {
      "cell_type": "code",
      "source": [
        "new_small_df = pd.concat([small_df, new_ratings])\n",
        "assert(len(small_df) + len(new_user_df) == len(new_small_df))"
      ],
      "metadata": {
        "id": "w-LzRM-HtQi_"
      },
      "execution_count": 15,
      "outputs": []
    },
    {
      "cell_type": "code",
      "source": [
        "col_names = ['user_id:token','item_id:token','rating:float', 'timestamp:float']\n",
        "new_small_df.columns = col_names"
      ],
      "metadata": {
        "colab": {
          "base_uri": "https://localhost:8080/"
        },
        "id": "Lw5DVUz1wU17",
        "outputId": "948fdb82-10a0-4e44-c759-8c62a3b20dc0"
      },
      "execution_count": 30,
      "outputs": [
        {
          "output_type": "execute_result",
          "data": {
            "text/plain": [
              "user_id:token        int64\n",
              "item_id:token        int64\n",
              "rating:float       float64\n",
              "timestamp:float      int64\n",
              "dtype: object"
            ]
          },
          "metadata": {},
          "execution_count": 30
        }
      ]
    },
    {
      "cell_type": "code",
      "source": [
        "file_name = 'ml-100k.inter'\n",
        "path = 'drive/MyDrive/research/atomic files/' + file_name\n",
        "new_small_df.to_csv(path, sep=\"\\t\", index=False)"
      ],
      "metadata": {
        "id": "wSEQ8lcctoim"
      },
      "execution_count": 26,
      "outputs": []
    },
    {
      "cell_type": "code",
      "source": [
        "small_movie_df = pd.read_csv('/content/ml-latest-small/movies.csv')\n",
        "small_movie_df\n",
        "\n",
        "small_movie_df['year'] = small_movie_df['title'].apply(lambda st: st[st.find(\"(\")+1:st.find(\")\")])\n",
        "small_movie_df['title'] = small_movie_df['title'].str.replace('\\(.*$', '')\n",
        "small_movie_df['genres'] = small_movie_df['genres'].str.replace('|', ' ')\n",
        "\n",
        "item_cols = ['movieId', 'title', 'year', 'genres']\n",
        "small_movie_df = small_movie_df[item_cols]\n",
        "\n",
        "icol_names = ['item_id:token', 'movie_title:token_seq', 'release_year:token', 'class:token_seq']\n",
        "small_movie_df.columns = icol_names"
      ],
      "metadata": {
        "colab": {
          "base_uri": "https://localhost:8080/"
        },
        "id": "J3B-uZye0meD",
        "outputId": "ee66e367-f22b-4506-e26a-04f2acecc9de"
      },
      "execution_count": 46,
      "outputs": [
        {
          "output_type": "stream",
          "name": "stderr",
          "text": [
            "<ipython-input-46-cb1e73e27956>:5: FutureWarning: The default value of regex will change from True to False in a future version.\n",
            "  small_movie_df['title'] = small_movie_df['title'].str.replace('\\(.*$', '')\n",
            "<ipython-input-46-cb1e73e27956>:6: FutureWarning: The default value of regex will change from True to False in a future version. In addition, single character regular expressions will *not* be treated as literal strings when regex=True.\n",
            "  small_movie_df['genres'] = small_movie_df['genres'].str.replace('|', ' ')\n"
          ]
        }
      ]
    },
    {
      "cell_type": "code",
      "source": [
        "file_name = 'ml-100k.item'\n",
        "path = 'drive/MyDrive/research/atomic files/' + file_name\n",
        "small_movie_df.to_csv(path, sep=\"\\t\", index=False)"
      ],
      "metadata": {
        "id": "iaICpZKo4x5i"
      },
      "execution_count": 47,
      "outputs": []
    }
  ]
}