{
  "nbformat": 4,
  "nbformat_minor": 0,
  "metadata": {
    "colab": {
      "provenance": []
    },
    "kernelspec": {
      "name": "python3",
      "display_name": "Python 3"
    },
    "language_info": {
      "name": "python"
    }
  },
  "cells": [
    {
      "cell_type": "markdown",
      "source": [
        "## Lenskit recommendation generation\n"
      ],
      "metadata": {
        "id": "RyVCNHoopwNZ"
      }
    },
    {
      "cell_type": "code",
      "source": [
        "%%capture\n",
        "!pip install wget"
      ],
      "metadata": {
        "id": "CUMndOSxrh1-"
      },
      "execution_count": null,
      "outputs": []
    },
    {
      "cell_type": "code",
      "source": [
        "import pandas as pd\n",
        "import os\n",
        "import wget"
      ],
      "metadata": {
        "id": "MycQmnoAq7WP"
      },
      "execution_count": null,
      "outputs": []
    },
    {
      "cell_type": "markdown",
      "source": [
        "### Reading the dataset:"
      ],
      "metadata": {
        "id": "KPrIkvUjq9IO"
      }
    },
    {
      "cell_type": "code",
      "execution_count": null,
      "metadata": {
        "id": "m7htjTRbpjch"
      },
      "outputs": [],
      "source": [
        "%%capture\n",
        "wget.download('https://files.grouplens.org/datasets/movielens/ml-latest-small.zip')\n",
        "# !unzip ml-latest.zip\n",
        "!unzip ml-latest-small.zip"
      ]
    },
    {
      "cell_type": "markdown",
      "source": [
        "### RecBole Library:\n",
        "Original page: https://recbole.io/\n",
        "\n",
        "Github: https://github.com/RUCAIBox/RecBole\n",
        "\n",
        "Documentation: https://recbole.io/docs/index.html"
      ],
      "metadata": {
        "id": "V1mH_S_QuHdR"
      }
    },
    {
      "cell_type": "code",
      "source": [
        "%%capture\n",
        "!pip install recbole\n",
        "!pip install ray"
      ],
      "metadata": {
        "id": "LGYSJ69It7Ud"
      },
      "execution_count": null,
      "outputs": []
    },
    {
      "cell_type": "code",
      "source": [
        "# from recbole.quick_start import run_recbole\n",
        "# run_recbole(model='BPR', dataset='ml-20m')"
      ],
      "metadata": {
        "id": "Ktchn4HvuuLs"
      },
      "execution_count": null,
      "outputs": []
    },
    {
      "cell_type": "markdown",
      "source": [
        "### Lenskit Library:\n",
        "Original page: https://lenskit.org/\n",
        "\n",
        "Documentation: https://lkpy.readthedocs.io/en/stable/install.html"
      ],
      "metadata": {
        "id": "xyjuYtzxzSt9"
      }
    },
    {
      "cell_type": "code",
      "source": [
        "%%capture\n",
        "!pip install lenskit\n",
        "!pip install tbb"
      ],
      "metadata": {
        "id": "A9h4BcOt3UhA"
      },
      "execution_count": null,
      "outputs": []
    },
    {
      "cell_type": "code",
      "source": [
        "%env MKL_THREADING_LAYER = tbb ## Performance optimization\n",
        "\n",
        "os.environ['MKL_THREADING_LAYER'] = 'tbb'"
      ],
      "metadata": {
        "id": "elLvAg-YT93g",
        "colab": {
          "base_uri": "https://localhost:8080/"
        },
        "outputId": "9a9fd8b5-8e8f-4e78-9402-69d6e72666ec"
      },
      "execution_count": null,
      "outputs": [
        {
          "output_type": "stream",
          "name": "stdout",
          "text": [
            "env: MKL_THREADING_LAYER=tbb ## Performance optimization\n"
          ]
        }
      ]
    },
    {
      "cell_type": "code",
      "source": [
        "from lenskit.datasets import MovieLens\n",
        "from lenskit import batch, topn, util\n",
        "from lenskit import crossfold as xf\n",
        "from lenskit.algorithms import Recommender, als, funksvd,  item_knn as iknn, user_knn as uknn\n",
        "from lenskit.algorithms.basic import PopScore, UnratedItemCandidateSelector\n",
        "from lenskit import topn\n",
        "from lenskit.datasets import ML100K"
      ],
      "metadata": {
        "id": "8SVOorcN7y4B"
      },
      "execution_count": null,
      "outputs": []
    },
    {
      "cell_type": "code",
      "source": [
        "mllatest = MovieLens('ml-latest')\n",
        "ml100k = MovieLens('ml-latest-small')\n",
        "\n",
        "## to load and view various properties:\n",
        "ratings = ml100k.ratings ##or .movies,links,tags,tag_genome"
      ],
      "metadata": {
        "id": "bc_uRjr13cFc"
      },
      "execution_count": null,
      "outputs": []
    },
    {
      "cell_type": "code",
      "source": [
        "ratings = mllatest.ratings\n",
        "candidate_list = [x for x in range(1,2000)]\n",
        "ratings = ratings[ratings.user.isin(candidate_list)]\n",
        "len(ratings)"
      ],
      "metadata": {
        "colab": {
          "base_uri": "https://localhost:8080/"
        },
        "id": "ETs8uGAakPRm",
        "outputId": "1082ba92-c493-40cc-dd2a-e0c6dfb4125f"
      },
      "execution_count": null,
      "outputs": [
        {
          "output_type": "execute_result",
          "data": {
            "text/plain": [
              "151415"
            ]
          },
          "metadata": {},
          "execution_count": 72
        }
      ]
    },
    {
      "cell_type": "markdown",
      "source": [
        "#### Algorithms"
      ],
      "metadata": {
        "id": "DaEX7D1WyIIV"
      }
    },
    {
      "cell_type": "code",
      "source": [
        "## Basic:\n",
        "algo_b1_pop = PopScore(score_method='quantile') # The PopScore algorithm scores items by their populariy for enabling most-popular-item recommendation.\n",
        "algo_b2_un = UnratedItemCandidateSelector # A candidate selector that remembers items users have rated, and returns a candidate set consisting of all unrated items.\n",
        "\n",
        "## KNN:\n",
        "algo_k1_i = iknn.ItemItem(20) #item-item CF, 20 as number of neighbors to consider\n",
        "algo_k2_u = uknn.UserUser(20) #user-user CF, 20 as number of neighbors to consider\n",
        "\n",
        "## MF:\n",
        "algo_BMF = als.BiasedMF(50) # Arg is the number of features to train\n",
        "algo_FSVD = funksvd.FunkSVD(50)"
      ],
      "metadata": {
        "id": "gdw6eLWvyHhV"
      },
      "execution_count": null,
      "outputs": []
    },
    {
      "cell_type": "code",
      "source": [
        "def eval(aname, algo, train, test):\n",
        "    fittable = util.clone(algo)\n",
        "    fittable = Recommender.adapt(fittable)\n",
        "    fittable.fit(train)\n",
        "    users = test.user.unique()\n",
        "\n",
        "    recs = batch.recommend(fittable, users, 100) # n is the number of recommendations to generate (None for unlimited)\n",
        "  \n",
        "    recs['Algorithm'] = aname\n",
        "    return recs\n",
        "\n",
        "\n",
        "all_recs = []\n",
        "test_data = []\n",
        "for train, test in xf.partition_users(ratings[['user', 'item', 'rating']], 5, xf.SampleFrac(0.2)):\n",
        "    test_data.append(test)\n",
        "\n",
        "    all_recs.append(eval('Popularity', algo_b1_pop, train, test))\n",
        "\n",
        "    all_recs.append(eval('ItemItem', algo_k1_i, train, test))\n",
        "    all_recs.append(eval('UserUser', algo_k2_u, train, test))\n",
        "\n",
        "    all_recs.append(eval('ALSBMF', algo_BMF, train, test))\n",
        "    all_recs.append(eval('ALSFunk', algo_FSVD, train, test))\n",
        "\n",
        "\n",
        "all_recs = pd.concat(all_recs, ignore_index=True)\n",
        "test_data = pd.concat(test_data, ignore_index=True)"
      ],
      "metadata": {
        "id": "Yo-imqer7tKE"
      },
      "execution_count": null,
      "outputs": []
    },
    {
      "cell_type": "code",
      "source": [
        "all_recs.score.hist()"
      ],
      "metadata": {
        "colab": {
          "base_uri": "https://localhost:8080/",
          "height": 282
        },
        "id": "zsqMm4Y4cbTo",
        "outputId": "838c729f-e064-4843-a8cf-1ad782201c9b"
      },
      "execution_count": null,
      "outputs": [
        {
          "output_type": "execute_result",
          "data": {
            "text/plain": [
              "<matplotlib.axes._subplots.AxesSubplot at 0x7f4c3206d6d0>"
            ]
          },
          "metadata": {},
          "execution_count": 75
        },
        {
          "output_type": "display_data",
          "data": {
            "text/plain": [
              "<Figure size 432x288 with 1 Axes>"
            ],
            "image/png": "[encoded data removed]"
          },
          "metadata": {
            "needs_background": "light"
          }
        }
      ]
    },
    {
      "cell_type": "code",
      "source": [
        "rla = topn.RecListAnalysis()\n",
        "rla.add_metric(topn.ndcg)\n",
        "results = rla.compute(all_recs, test_data)\n",
        "results.groupby('Algorithm').ndcg.mean()"
      ],
      "metadata": {
        "id": "bR2lnv608-5O",
        "colab": {
          "base_uri": "https://localhost:8080/"
        },
        "outputId": "a77b2d49-9c10-4e5a-cbd8-999afeabf79c"
      },
      "execution_count": null,
      "outputs": [
        {
          "output_type": "execute_result",
          "data": {
            "text/plain": [
              "Algorithm\n",
              "ALSBMF        0.046547\n",
              "ALSFunk       0.018533\n",
              "ItemItem      0.002042\n",
              "Popularity    0.163502\n",
              "UserUser      0.000059\n",
              "Name: ndcg, dtype: float64"
            ]
          },
          "metadata": {},
          "execution_count": 76
        }
      ]
    },
    {
      "cell_type": "markdown",
      "source": [
        "Lenskit is obviously out! The performance is way off."
      ],
      "metadata": {
        "id": "j-vMozP4SreH"
      }
    }
  ]
}