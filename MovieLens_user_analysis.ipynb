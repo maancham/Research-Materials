{
  "nbformat": 4,
  "nbformat_minor": 0,
  "metadata": {
    "colab": {
      "provenance": [],
      "authorship_tag": "ABX9TyO2/N86hlLVivpADtgU3SBw",
      "include_colab_link": true
    },
    "kernelspec": {
      "name": "python3",
      "display_name": "Python 3"
    },
    "language_info": {
      "name": "python"
    }
  },
  "cells": [
    {
      "cell_type": "markdown",
      "metadata": {
        "id": "view-in-github",
        "colab_type": "text"
      },
      "source": [
        "<a href=\"https://colab.research.google.com/github/maancham/Research-Materials/blob/main/MovieLens_user_analysis.ipynb\" target=\"_parent\"><img src=\"https://colab.research.google.com/assets/colab-badge.svg\" alt=\"Open In Colab\"/></a>"
      ]
    },
    {
      "cell_type": "code",
      "execution_count": null,
      "metadata": {
        "id": "R1jll_obQ1JO"
      },
      "outputs": [],
      "source": [
        "%%capture\n",
        "!pip install wget"
      ]
    },
    {
      "cell_type": "code",
      "source": [
        "%%capture\n",
        "wget.download('https://files.grouplens.org/datasets/movielens/ml-25m.zip')\n",
        "!unzip ml-25m.zip"
      ],
      "metadata": {
        "id": "E0z_OvIcSQw8"
      },
      "execution_count": null,
      "outputs": []
    },
    {
      "cell_type": "code",
      "source": [
        "import pandas as pd\n",
        "import numpy as np\n",
        "from scipy import stats\n",
        "import random\n",
        "\n",
        "from matplotlib import pyplot as plt\n",
        "import datetime\n",
        "\n",
        "import time\n",
        "import os\n",
        "import wget\n",
        "from IPython.display import display, HTML"
      ],
      "metadata": {
        "id": "LmNuIFF3Q9MD"
      },
      "execution_count": null,
      "outputs": []
    },
    {
      "cell_type": "code",
      "source": [
        "df = pd.read_csv('/content/ml-25m/ratings.csv')\n",
        "movie_df = pd.read_csv('/content/ml-25m/movies.csv')\n",
        "\n",
        "movie_df['year'] = movie_df['title'].str.extract('.*\\((.*)\\).*')\n",
        "movie_df['year'] = movie_df['year'].str.extract(pat='(\\d+)', expand=False)\n",
        "movie_df['year'] = pd.to_numeric(movie_df['year'])\n",
        "\n",
        "# movie_df['year_bucket'] = pd.cut(movie_df['year'], 10)\n",
        "\n",
        "df.head()"
      ],
      "metadata": {
        "colab": {
          "base_uri": "https://localhost:8080/",
          "height": 206
        },
        "id": "DsL8Pe7XST1j",
        "outputId": "731b0a86-4338-483a-96d9-5e04810de6c4"
      },
      "execution_count": null,
      "outputs": [
        {
          "output_type": "execute_result",
          "data": {
            "text/plain": [
              "   userId  movieId  rating   timestamp\n",
              "0       1      296     5.0  1147880044\n",
              "1       1      306     3.5  1147868817\n",
              "2       1      307     5.0  1147868828\n",
              "3       1      665     5.0  1147878820\n",
              "4       1      899     3.5  1147868510"
            ],
            "text/html": [
              "\n",
              "  <div id=\"df-fe4accd0-ba31-4607-93cd-542266b14b05\">\n",
              "    <div class=\"colab-df-container\">\n",
              "      <div>\n",
              "<style scoped>\n",
              "    .dataframe tbody tr th:only-of-type {\n",
              "        vertical-align: middle;\n",
              "    }\n",
              "\n",
              "    .dataframe tbody tr th {\n",
              "        vertical-align: top;\n",
              "    }\n",
              "\n",
              "    .dataframe thead th {\n",
              "        text-align: right;\n",
              "    }\n",
              "</style>\n",
              "<table border=\"1\" class=\"dataframe\">\n",
              "  <thead>\n",
              "    <tr style=\"text-align: right;\">\n",
              "      <th></th>\n",
              "      <th>userId</th>\n",
              "      <th>movieId</th>\n",
              "      <th>rating</th>\n",
              "      <th>timestamp</th>\n",
              "    </tr>\n",
              "  </thead>\n",
              "  <tbody>\n",
              "    <tr>\n",
              "      <th>0</th>\n",
              "      <td>1</td>\n",
              "      <td>296</td>\n",
              "      <td>5.0</td>\n",
              "      <td>1147880044</td>\n",
              "    </tr>\n",
              "    <tr>\n",
              "      <th>1</th>\n",
              "      <td>1</td>\n",
              "      <td>306</td>\n",
              "      <td>3.5</td>\n",
              "      <td>1147868817</td>\n",
              "    </tr>\n",
              "    <tr>\n",
              "      <th>2</th>\n",
              "      <td>1</td>\n",
              "      <td>307</td>\n",
              "      <td>5.0</td>\n",
              "      <td>1147868828</td>\n",
              "    </tr>\n",
              "    <tr>\n",
              "      <th>3</th>\n",
              "      <td>1</td>\n",
              "      <td>665</td>\n",
              "      <td>5.0</td>\n",
              "      <td>1147878820</td>\n",
              "    </tr>\n",
              "    <tr>\n",
              "      <th>4</th>\n",
              "      <td>1</td>\n",
              "      <td>899</td>\n",
              "      <td>3.5</td>\n",
              "      <td>1147868510</td>\n",
              "    </tr>\n",
              "  </tbody>\n",
              "</table>\n",
              "</div>\n",
              "      <button class=\"colab-df-convert\" onclick=\"convertToInteractive('df-fe4accd0-ba31-4607-93cd-542266b14b05')\"\n",
              "              title=\"Convert this dataframe to an interactive table.\"\n",
              "              style=\"display:none;\">\n",
              "        \n",
              "  <svg xmlns=\"http://www.w3.org/2000/svg\" height=\"24px\"viewBox=\"0 0 24 24\"\n",
              "       width=\"24px\">\n",
              "    <path d=\"M0 0h24v24H0V0z\" fill=\"none\"/>\n",
              "    <path d=\"M18.56 5.44l.94 2.06.94-2.06 2.06-.94-2.06-.94-.94-2.06-.94 2.06-2.06.94zm-11 1L8.5 8.5l.94-2.06 2.06-.94-2.06-.94L8.5 2.5l-.94 2.06-2.06.94zm10 10l.94 2.06.94-2.06 2.06-.94-2.06-.94-.94-2.06-.94 2.06-2.06.94z\"/><path d=\"M17.41 7.96l-1.37-1.37c-.4-.4-.92-.59-1.43-.59-.52 0-1.04.2-1.43.59L10.3 9.45l-7.72 7.72c-.78.78-.78 2.05 0 2.83L4 21.41c.39.39.9.59 1.41.59.51 0 1.02-.2 1.41-.59l7.78-7.78 2.81-2.81c.8-.78.8-2.07 0-2.86zM5.41 20L4 18.59l7.72-7.72 1.47 1.35L5.41 20z\"/>\n",
              "  </svg>\n",
              "      </button>\n",
              "      \n",
              "  <style>\n",
              "    .colab-df-container {\n",
              "      display:flex;\n",
              "      flex-wrap:wrap;\n",
              "      gap: 12px;\n",
              "    }\n",
              "\n",
              "    .colab-df-convert {\n",
              "      background-color: #E8F0FE;\n",
              "      border: none;\n",
              "      border-radius: 50%;\n",
              "      cursor: pointer;\n",
              "      display: none;\n",
              "      fill: #1967D2;\n",
              "      height: 32px;\n",
              "      padding: 0 0 0 0;\n",
              "      width: 32px;\n",
              "    }\n",
              "\n",
              "    .colab-df-convert:hover {\n",
              "      background-color: #E2EBFA;\n",
              "      box-shadow: 0px 1px 2px rgba(60, 64, 67, 0.3), 0px 1px 3px 1px rgba(60, 64, 67, 0.15);\n",
              "      fill: #174EA6;\n",
              "    }\n",
              "\n",
              "    [theme=dark] .colab-df-convert {\n",
              "      background-color: #3B4455;\n",
              "      fill: #D2E3FC;\n",
              "    }\n",
              "\n",
              "    [theme=dark] .colab-df-convert:hover {\n",
              "      background-color: #434B5C;\n",
              "      box-shadow: 0px 1px 3px 1px rgba(0, 0, 0, 0.15);\n",
              "      filter: drop-shadow(0px 1px 2px rgba(0, 0, 0, 0.3));\n",
              "      fill: #FFFFFF;\n",
              "    }\n",
              "  </style>\n",
              "\n",
              "      <script>\n",
              "        const buttonEl =\n",
              "          document.querySelector('#df-fe4accd0-ba31-4607-93cd-542266b14b05 button.colab-df-convert');\n",
              "        buttonEl.style.display =\n",
              "          google.colab.kernel.accessAllowed ? 'block' : 'none';\n",
              "\n",
              "        async function convertToInteractive(key) {\n",
              "          const element = document.querySelector('#df-fe4accd0-ba31-4607-93cd-542266b14b05');\n",
              "          const dataTable =\n",
              "            await google.colab.kernel.invokeFunction('convertToInteractive',\n",
              "                                                     [key], {});\n",
              "          if (!dataTable) return;\n",
              "\n",
              "          const docLinkHtml = 'Like what you see? Visit the ' +\n",
              "            '<a target=\"_blank\" href=https://colab.research.google.com/notebooks/data_table.ipynb>data table notebook</a>'\n",
              "            + ' to learn more about interactive tables.';\n",
              "          element.innerHTML = '';\n",
              "          dataTable['output_type'] = 'display_data';\n",
              "          await google.colab.output.renderOutput(dataTable, element);\n",
              "          const docLink = document.createElement('div');\n",
              "          docLink.innerHTML = docLinkHtml;\n",
              "          element.appendChild(docLink);\n",
              "        }\n",
              "      </script>\n",
              "    </div>\n",
              "  </div>\n",
              "  "
            ]
          },
          "metadata": {},
          "execution_count": 4
        }
      ]
    },
    {
      "cell_type": "markdown",
      "source": [
        "### The number of ratings for each user:"
      ],
      "metadata": {
        "id": "9PwCYRRcSlEG"
      }
    },
    {
      "cell_type": "code",
      "source": [
        "by_user_rating = df.groupby(by = 'userId').count().rating\n",
        "\n",
        "print(by_user_rating.describe())\n",
        "print(\"******************\")\n",
        "\n",
        "candidate_list = [100, 200, 300, 40, 500, 1000]\n",
        "for i in candidate_list:\n",
        "  print(\"Percentile of Rating Count \", i, \" : \", stats.percentileofscore(by_user_rating, i))"
      ],
      "metadata": {
        "colab": {
          "base_uri": "https://localhost:8080/"
        },
        "id": "JkSA-MMcUfI_",
        "outputId": "d96b2b87-20c8-4ccd-f281-53da1004a8fd"
      },
      "execution_count": 53,
      "outputs": [
        {
          "output_type": "stream",
          "name": "stdout",
          "text": [
            "count    162541.000000\n",
            "mean        153.807932\n",
            "std         268.047590\n",
            "min          20.000000\n",
            "25%          36.000000\n",
            "50%          71.000000\n",
            "75%         162.000000\n",
            "max       32202.000000\n",
            "Name: rating, dtype: float64\n",
            "******************\n",
            "Percentile of Rating Count  100  :  60.93508714724285\n",
            "Percentile of Rating Count  200  :  79.7208089035997\n",
            "Percentile of Rating Count  300  :  87.47946671916624\n",
            "Percentile of Rating Count  40  :  29.208015208470478\n",
            "Percentile of Rating Count  500  :  94.0399653010625\n",
            "Percentile of Rating Count  1000  :  98.35610707452274\n"
          ]
        }
      ]
    },
    {
      "cell_type": "code",
      "source": [
        "rating_counts = by_user_rating.values\n",
        "bins = np.arange(20, 500, 20)\n",
        "\n",
        "plt.figure(figsize=(30,5))\n",
        "\n",
        "plt.subplot(1, 2, 1)\n",
        "plt.xlim([min(rating_counts), 500])\n",
        "plt.hist(rating_counts, bins=bins, alpha=0.5, color = \"blue\")\n",
        "plt.gca().set(xlabel='Number of Ratings', ylabel='Frequency', title='User Ratings Histogram')\n",
        "\n",
        "plt.subplot(1, 2, 2)\n",
        "plt.xlim([min(rating_counts), 300])\n",
        "plt.hist(rating_counts, bins=bins, alpha=0.5, color = \"blue\")\n",
        "plt.gca().set(xlabel='Number of Ratings', ylabel='Frequency', title='User Ratings Histogram')"
      ],
      "metadata": {
        "colab": {
          "base_uri": "https://localhost:8080/",
          "height": 402
        },
        "id": "7yzJ-XjvSmiR",
        "outputId": "f9852b8f-a54e-44b8-8c9c-079a089d5885"
      },
      "execution_count": 54,
      "outputs": [
        {
          "output_type": "execute_result",
          "data": {
            "text/plain": [
              "[Text(0, 0.5, 'Frequency'),\n",
              " Text(0.5, 0, 'Number of Ratings'),\n",
              " Text(0.5, 1.0, 'User Ratings Histogram')]"
            ]
          },
          "metadata": {},
          "execution_count": 54
        },
        {
          "output_type": "display_data",
          "data": {
            "text/plain": [
              "<Figure size 2160x360 with 2 Axes>"
            ],
            "image/png": "[encoded data removed]"
          },
          "metadata": {
            "needs_background": "light"
          }
        }
      ]
    }
  ]
}