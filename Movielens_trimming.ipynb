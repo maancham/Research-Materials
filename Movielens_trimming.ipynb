{
  "nbformat": 4,
  "nbformat_minor": 0,
  "metadata": {
    "colab": {
      "provenance": [],
      "authorship_tag": "ABX9TyOZ461qE+Cnx9EPxUZRw6WT",
      "include_colab_link": true
    },
    "kernelspec": {
      "name": "python3",
      "display_name": "Python 3"
    },
    "language_info": {
      "name": "python"
    }
  },
  "cells": [
    {
      "cell_type": "markdown",
      "metadata": {
        "id": "view-in-github",
        "colab_type": "text"
      },
      "source": [
        "<a href=\"https://colab.research.google.com/github/maancham/Research-Materials/blob/main/Movielens_trimming.ipynb\" target=\"_parent\"><img src=\"https://colab.research.google.com/assets/colab-badge.svg\" alt=\"Open In Colab\"/></a>"
      ]
    },
    {
      "cell_type": "code",
      "source": [
        "%%capture\n",
        "!pip install wget\n",
        "!pip install csv2tsv"
      ],
      "metadata": {
        "id": "n6CoT_Eq15RY"
      },
      "execution_count": 1,
      "outputs": []
    },
    {
      "cell_type": "code",
      "execution_count": 2,
      "metadata": {
        "id": "9ybdB8r41PTg"
      },
      "outputs": [],
      "source": [
        "import pandas as pd\n",
        "import numpy as np\n",
        "import re\n",
        "from scipy import stats\n",
        "import wget\n",
        "\n",
        "pd.options.mode.chained_assignment = None\n",
        "\n",
        "from google.colab import drive\n",
        "# drive.mount('/content/drive')"
      ]
    },
    {
      "cell_type": "code",
      "source": [
        "%%capture\n",
        "wget.download('https://files.grouplens.org/datasets/movielens/ml-25m.zip')\n",
        "!unzip ml-25m.zip\n",
        "\n",
        "df = pd.read_csv('/content/ml-25m/ratings.csv')\n",
        "movie_df = pd.read_csv('/content/ml-25m/movies.csv')"
      ],
      "metadata": {
        "id": "l3_5hyq816TQ"
      },
      "execution_count": 25,
      "outputs": []
    },
    {
      "cell_type": "code",
      "source": [
        "def extract_year(title):\n",
        "  if(len(title) > 7):\n",
        "    year = title[-7:]\n",
        "    return year[year.find(\"(\")+1:year.find(\")\")]\n",
        "  else:\n",
        "    return None\n",
        "  \n",
        "def filter_data(min_year, movie_df, df, n_core_movies = 10, n_core_users = 20):\n",
        "  movie_df['year'] = movie_df['title'].apply(extract_year)\n",
        "  movie_df['year'] = pd.to_numeric(movie_df['year'], errors='coerce')\n",
        "  movie_df = movie_df[movie_df['year'].notna()]\n",
        "  movie_df['year'] = movie_df.loc[:, 'year'].astype(int)\n",
        "\n",
        "  movie_df['title'] = movie_df['title'].str.replace(r'\\(.*$', '', regex=True)\n",
        "  movie_df['genres'] = movie_df['genres'].str.replace(r'|', ' ', regex=True)\n",
        "\n",
        "  ### Filtering based on released year\n",
        "  movie_df = movie_df[movie_df['year'] >= min_year]\n",
        "\n",
        "  ### Filtering based on genre availability\n",
        "  movie_df = movie_df[movie_df['genres'] != '(no genres listed)']\n",
        "\n",
        "\n",
        "  merged_df = pd.merge(df, movie_df, on='movieId')\n",
        "\n",
        "  by_movie = merged_df.groupby(by = 'movieId').count()\n",
        "  unknown_movies = by_movie[by_movie['userId'] < n_core_movies].index.to_list()\n",
        "  movie_df = movie_df[~movie_df['movieId'].isin(unknown_movies)]\n",
        "\n",
        "  df = df[df['movieId'].isin(movie_df['movieId'].to_list())]\n",
        "  by_user_rating = df.groupby(by = 'userId').count().rating\n",
        "  low_userIds = by_user_rating[by_user_rating < n_core_users].index.to_list()\n",
        "  df = df[~df['userId'].isin(low_userIds)]\n",
        "  df.reset_index(inplace=True, drop=True)\n",
        "\n",
        "  return movie_df, df"
      ],
      "metadata": {
        "id": "D_6KC_gaMrCL"
      },
      "execution_count": 28,
      "outputs": []
    },
    {
      "cell_type": "code",
      "source": [
        "movie_df, df = filter_data(1975, movie_df, df)\n",
        "\n",
        "print(\"Number of interactions: \", len(df))\n",
        "print(\"Number of items: \", len(movie_df))"
      ],
      "metadata": {
        "colab": {
          "base_uri": "https://localhost:8080/"
        },
        "id": "4Jcrpo3aNBdI",
        "outputId": "e4b3caf9-bd78-4a9c-e1d1-375e832c4fb9"
      },
      "execution_count": 29,
      "outputs": [
        {
          "output_type": "stream",
          "name": "stdout",
          "text": [
            "Number of interactions:  22470243\n",
            "Number of items:  21133\n"
          ]
        }
      ]
    },
    {
      "cell_type": "markdown",
      "source": [
        "### Dataset extension part:"
      ],
      "metadata": {
        "id": "yJQSU1eNKMkh"
      }
    },
    {
      "cell_type": "code",
      "source": [
        "new_user_df = pd.read_csv('/content/drive/MyDrive/research/new user ratings/new_user_houmch.csv', \n",
        "                          index_col=0)\n",
        "new_ratings = new_user_df[['userId', 'movieId', 'rating', 'timestamp']]\n",
        "new_df = pd.concat([df, new_ratings])\n",
        "assert(len(df) + len(new_user_df) == len(new_df))\n",
        "\n",
        "col_names = ['user_id:token','item_id:token','rating:float', 'timestamp:float']\n",
        "new_df.columns = col_names\n",
        "\n",
        "\n",
        "file_name = 'ml-25m.inter'\n",
        "path = 'drive/MyDrive/research/atomic files/' + file_name\n",
        "new_df.to_csv(path, sep=\"\\t\", index=False)"
      ],
      "metadata": {
        "id": "bz9v7H8ZKOVS"
      },
      "execution_count": null,
      "outputs": []
    },
    {
      "cell_type": "code",
      "source": [
        "item_cols = ['movieId', 'title', 'year', 'genres']\n",
        "movie_df = movie_df[item_cols]\n",
        "\n",
        "icol_names = ['item_id:token', 'movie_title:token_seq', 'release_year:token', 'class:token_seq']\n",
        "movie_df.columns = icol_names\n",
        "\n",
        "file_name = 'ml-25m.item'\n",
        "path = 'drive/MyDrive/research/atomic files/' + file_name\n",
        "movie_df.to_csv(path, index=False)"
      ],
      "metadata": {
        "id": "2YdQv2H1KSDI"
      },
      "execution_count": null,
      "outputs": []
    }
  ]
}