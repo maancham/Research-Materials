{
  "nbformat": 4,
  "nbformat_minor": 0,
  "metadata": {
    "colab": {
      "provenance": [],
      "authorship_tag": "ABX9TyPx8fGTisKvv3RqGfffvxBV",
      "include_colab_link": true
    },
    "kernelspec": {
      "name": "python3",
      "display_name": "Python 3"
    },
    "language_info": {
      "name": "python"
    }
  },
  "cells": [
    {
      "cell_type": "markdown",
      "metadata": {
        "id": "view-in-github",
        "colab_type": "text"
      },
      "source": [
        "<a href=\"https://colab.research.google.com/github/maancham/Research-Materials/blob/main/Movielens_trimming.ipynb\" target=\"_parent\"><img src=\"https://colab.research.google.com/assets/colab-badge.svg\" alt=\"Open In Colab\"/></a>"
      ]
    },
    {
      "cell_type": "code",
      "source": [
        "%%capture\n",
        "!pip install wget\n",
        "!pip install csv2tsv"
      ],
      "metadata": {
        "id": "n6CoT_Eq15RY"
      },
      "execution_count": 1,
      "outputs": []
    },
    {
      "cell_type": "code",
      "execution_count": 2,
      "metadata": {
        "id": "9ybdB8r41PTg"
      },
      "outputs": [],
      "source": [
        "import pandas as pd\n",
        "import numpy as np\n",
        "import re\n",
        "from scipy import stats\n",
        "import wget\n",
        "from urllib.request import urlopen\n",
        "\n",
        "\n",
        "pd.options.mode.chained_assignment = None\n",
        "\n",
        "from google.colab import drive\n",
        "# drive.mount('/content/drive')"
      ]
    },
    {
      "cell_type": "code",
      "source": [
        "%%capture\n",
        "# wget.download('https://files.grouplens.org/datasets/movielens/ml-25m.zip')\n",
        "# !unzip ml-25m.zip\n",
        "\n",
        "df = pd.read_csv('/content/ml-25m/ratings.csv')\n",
        "movie_df = pd.read_csv('/content/ml-25m/movies.csv')\n",
        "link_df = pd.read_csv('/content/ml-25m/links.csv')"
      ],
      "metadata": {
        "id": "l3_5hyq816TQ"
      },
      "execution_count": 3,
      "outputs": []
    },
    {
      "cell_type": "code",
      "source": [
        "broken_movieIds = []\n",
        "data = urlopen('https://raw.githubusercontent.com/maancham/Research-Materials/main/tmdb_unknown')\n",
        "for line in data:\n",
        "    broken_movieIds.append(int(re.findall(r'\\d+', str(line))[0]))"
      ],
      "metadata": {
        "id": "yqJHViR1iBom"
      },
      "execution_count": null,
      "outputs": []
    },
    {
      "cell_type": "code",
      "source": [
        "def extract_year(title):\n",
        "  if(len(title) > 7):\n",
        "    year = title[-7:]\n",
        "    return year[year.find(\"(\")+1:year.find(\")\")]\n",
        "  else:\n",
        "    return None\n",
        "  \n",
        "def filter_data(min_year, movie_df, df, n_core_movies = 10, n_core_users = 20):\n",
        "  movie_df['year'] = movie_df['title'].apply(extract_year)\n",
        "  movie_df['year'] = pd.to_numeric(movie_df['year'], errors='coerce')\n",
        "  movie_df = movie_df[movie_df['year'].notna()]\n",
        "  movie_df['year'] = movie_df.loc[:, 'year'].astype(int)\n",
        "\n",
        "  movie_df['title'] = movie_df['title'].str.replace(r'\\(.*$', '', regex=True)\n",
        "  movie_df['genres'] = movie_df['genres'].str.replace(r'|', ' ', regex=True)\n",
        "\n",
        "  ### Filtering based on released year\n",
        "  movie_df = movie_df[movie_df['year'] >= min_year]\n",
        "\n",
        "  ### Filtering based on genre availability\n",
        "  movie_df = movie_df[movie_df['genres'] != '(no genres listed)']\n",
        "\n",
        "\n",
        "  merged_df = pd.merge(df, movie_df, on='movieId')\n",
        "\n",
        "  by_movie = merged_df.groupby(by = 'movieId').count()\n",
        "  unknown_movies = by_movie[by_movie['userId'] < n_core_movies].index.to_list()\n",
        "  unknown_movies.extend(link_df[link_df['tmdbId'].isnull()].movieId.to_list())\n",
        "\n",
        "  movie_df = movie_df[~movie_df['movieId'].isin(unknown_movies)]\n",
        "  movie_df = movie_df[~movie_df['movieId'].isin(broken_movieIds)]\n",
        "\n",
        "  df = df[df['movieId'].isin(movie_df['movieId'].to_list())]\n",
        "  by_user_rating = df.groupby(by = 'userId').count().rating\n",
        "  low_userIds = by_user_rating[by_user_rating < n_core_users].index.to_list()\n",
        "  df = df[~df['userId'].isin(low_userIds)]\n",
        "  df.reset_index(inplace=True, drop=True)\n",
        "\n",
        "  return movie_df, df"
      ],
      "metadata": {
        "id": "D_6KC_gaMrCL"
      },
      "execution_count": 4,
      "outputs": []
    },
    {
      "cell_type": "code",
      "source": [
        "movie_df, df = filter_data(1950, movie_df, df, 20, 50)\n",
        "\n",
        "print(\"Number of interactions: \", len(df))\n",
        "print(\"Number of items: \", len(movie_df))"
      ],
      "metadata": {
        "colab": {
          "base_uri": "https://localhost:8080/"
        },
        "id": "4Jcrpo3aNBdI",
        "outputId": "1924e6f3-c8ab-4c22-cbf5-9e9cc0f8f12e"
      },
      "execution_count": 5,
      "outputs": [
        {
          "output_type": "stream",
          "name": "stdout",
          "text": [
            "Number of interactions:  22346263\n",
            "Number of items:  19524\n"
          ]
        }
      ]
    },
    {
      "cell_type": "markdown",
      "source": [
        "### Dataset extension part:"
      ],
      "metadata": {
        "id": "yJQSU1eNKMkh"
      }
    },
    {
      "cell_type": "code",
      "source": [
        "new_user_df = pd.read_csv('/content/drive/MyDrive/research/new user ratings/new_user_houmch.csv', \n",
        "                          index_col=0)\n",
        "new_ratings = new_user_df[['userId', 'movieId', 'rating', 'timestamp']]\n",
        "new_df = pd.concat([df, new_ratings])\n",
        "assert(len(df) + len(new_user_df) == len(new_df))\n",
        "\n",
        "col_names = ['user_id:token','item_id:token','rating:float', 'timestamp:float']\n",
        "new_df.columns = col_names\n",
        "\n",
        "\n",
        "file_name = 'ml-25m.inter'\n",
        "path = 'drive/MyDrive/research/atomic files/' + file_name\n",
        "new_df.to_csv(path, sep=\"\\t\", index=False)"
      ],
      "metadata": {
        "id": "bz9v7H8ZKOVS"
      },
      "execution_count": null,
      "outputs": []
    },
    {
      "cell_type": "code",
      "source": [
        "item_cols = ['movieId', 'title', 'year', 'genres']\n",
        "movie_df = movie_df[item_cols]\n",
        "\n",
        "icol_names = ['item_id:token', 'movie_title:token_seq', 'release_year:token', 'class:token_seq']\n",
        "movie_df.columns = icol_names\n",
        "\n",
        "file_name = 'ml-25m.item'\n",
        "path = 'drive/MyDrive/research/atomic files/' + file_name\n",
        "movie_df.to_csv(path, sep=\"\\t\", index=False)"
      ],
      "metadata": {
        "id": "2YdQv2H1KSDI"
      },
      "execution_count": null,
      "outputs": []
    },
    {
      "cell_type": "markdown",
      "source": [
        "### Saving movies for django backend:"
      ],
      "metadata": {
        "id": "02vyTn67yzuo"
      }
    },
    {
      "cell_type": "code",
      "source": [
        "%%capture\n",
        "!pip install tmdbv3api"
      ],
      "metadata": {
        "id": "Qx5pHPW46fAG"
      },
      "execution_count": 6,
      "outputs": []
    },
    {
      "cell_type": "code",
      "source": [
        "from tmdbv3api import TMDb\n",
        "from tmdbv3api import Movie\n",
        "\n",
        "tmdb = TMDb()\n",
        "tmdb.api_key = ''"
      ],
      "metadata": {
        "id": "Idjlw0nc6kwc"
      },
      "execution_count": 7,
      "outputs": []
    },
    {
      "cell_type": "code",
      "source": [
        "link_df = pd.read_csv('/content/ml-25m/links.csv')\n",
        "\n",
        "tmdb_correction_dict = {\n",
        "    12773 : 427910,  ## Navy Seals, movieId 4207\n",
        "    58423 : 417859, ## Puss in Boots, movieId 90647\n",
        "}\n",
        "\n",
        "link_df = link_df.replace({\"tmdbId\": tmdb_correction_dict})\n",
        "\n",
        "\n",
        "link_df = link_df[link_df['tmdbId'].notna()]\n",
        "link_df['tmdbId'] = link_df['tmdbId'].astype(np.int64)\n",
        "\n",
        "merged_movie_df = pd.merge(link_df, movie_df, on='movieId')\n",
        "merged_movie_df['imdbId'] = merged_movie_df['imdbId'].apply(lambda x: 'tt' + str(x).rjust(7, '0'))\n",
        "\n",
        "merged_movie_df['overview'] = ''\n",
        "merged_movie_df['img_path'] = ''"
      ],
      "metadata": {
        "id": "T3iShKC3z_ms"
      },
      "execution_count": 23,
      "outputs": []
    },
    {
      "cell_type": "code",
      "source": [
        "movie = Movie()\n",
        "bad_rows = []\n",
        "\n",
        "for i, row in merged_movie_df.iterrows():\n",
        "  try:\n",
        "    m = movie.details(row['tmdbId'])\n",
        "    merged_movie_df.at[i, 'title'] = m.title\n",
        "    merged_movie_df.at[i, 'imdbId'] = m.imdb_id\n",
        "    merged_movie_df.at[i, 'overview'] = m.overview\n",
        "\n",
        "    if (m.poster_path):\n",
        "      img_path = 'https://image.tmdb.org/t/p/w500' + m.poster_path\n",
        "    else:\n",
        "      img_path = None\n",
        "    merged_movie_df.at[i, 'img_path'] = img_path\n",
        "\n",
        "    genres = ''\n",
        "    for item in m.genres:\n",
        "      genres += item['name']\n",
        "      genres += ', '\n",
        "    genres = genres.rstrip(', ')\n",
        "    merged_movie_df.at[i, 'genres'] = genres\n",
        "  except:\n",
        "    bad_rows.append(row['movieId'])\n",
        "\n",
        "bad_rows"
      ],
      "metadata": {
        "id": "AdOU4yZl7Q2o"
      },
      "execution_count": null,
      "outputs": []
    },
    {
      "cell_type": "code",
      "source": [
        "merged_movie_df"
      ],
      "metadata": {
        "colab": {
          "base_uri": "https://localhost:8080/",
          "height": 424
        },
        "id": "WVBnqnPmy6eW",
        "outputId": "3dd21c35-b76f-4f25-ca7a-7ba180036335"
      },
      "execution_count": 54,
      "outputs": [
        {
          "output_type": "execute_result",
          "data": {
            "text/plain": [
              "       movieId     imdbId  tmdbId                        title  \\\n",
              "0            1  tt0114709     862                    Toy Story   \n",
              "1            2  tt0113497    8844                      Jumanji   \n",
              "2            3  tt0113228   15602             Grumpier Old Men   \n",
              "3            4  tt0114885   31357            Waiting to Exhale   \n",
              "4            5  tt0113041   11862  Father of the Bride Part II   \n",
              "...        ...        ...     ...                          ...   \n",
              "19519   208403  tt0316352  256452      One Hell of a Christmas   \n",
              "19520   208405  tt0220025  108871                 School's Out   \n",
              "19521   208407  tt0138647   32947           Angel of the Night   \n",
              "19522   208411  tt0287665  101604                Eternal Blood   \n",
              "19523   208804  tt6398496  549690                        Spell   \n",
              "\n",
              "                                     genres  year  \\\n",
              "0      Animation, Adventure, Family, Comedy  1995   \n",
              "1                Adventure, Fantasy, Family  1995   \n",
              "2                           Romance, Comedy  1995   \n",
              "3                    Comedy, Drama, Romance  1995   \n",
              "4                            Comedy, Family  1995   \n",
              "...                                     ...   ...   \n",
              "19519                 Crime, Action, Comedy  2002   \n",
              "19520             Horror, Mystery, Thriller  1999   \n",
              "19521                                Horror  1998   \n",
              "19522             Horror, Fantasy, Thriller  2002   \n",
              "19523               Thriller, Drama, Comedy  2018   \n",
              "\n",
              "                                                overview  \\\n",
              "0      Led by Woody, Andy's toys live happily in his ...   \n",
              "1      When siblings Judy and Peter discover an encha...   \n",
              "2      A family wedding reignites the ancient feud be...   \n",
              "3      Cheated on, mistreated and stepped on, the wom...   \n",
              "4      Just when George Banks has recovered from his ...   \n",
              "...                                                  ...   \n",
              "19519  \"One Hell of a Christmas\" is a dark and action...   \n",
              "19520  A group of seniors decide to have a party in t...   \n",
              "19521  Rebecca has inherited her grandmother's Gothic...   \n",
              "19522  Carmila is introduced by 'M' to a sinister rol...   \n",
              "19523  After the death of his fiancée, an American il...   \n",
              "\n",
              "                                                img_path  \n",
              "0      https://image.tmdb.org/t/p/w500/uXDfjJbdP4ijW5...  \n",
              "1      https://image.tmdb.org/t/p/w500/vgpXmVaVyUL7GG...  \n",
              "2      https://image.tmdb.org/t/p/w500/1FSXpj5e8l4KH6...  \n",
              "3      https://image.tmdb.org/t/p/w500/4uw6HKq4vlhrSV...  \n",
              "4      https://image.tmdb.org/t/p/w500/rj4LBtwQ0uGrpB...  \n",
              "...                                                  ...  \n",
              "19519  https://image.tmdb.org/t/p/w500/tDfM6aqf4XYun6...  \n",
              "19520  https://image.tmdb.org/t/p/w500/4osh6Wu8cfzDVc...  \n",
              "19521  https://image.tmdb.org/t/p/w500/A1dsQQ1DUKzOpA...  \n",
              "19522  https://image.tmdb.org/t/p/w500/oX5pBME2LlpU6z...  \n",
              "19523  https://image.tmdb.org/t/p/w500/5Y7J1VIKfJyBPZ...  \n",
              "\n",
              "[19524 rows x 8 columns]"
            ],
            "text/html": [
              "\n",
              "  <div id=\"df-fe0a48e7-deb5-4c16-b2a2-181646c05f4b\">\n",
              "    <div class=\"colab-df-container\">\n",
              "      <div>\n",
              "<style scoped>\n",
              "    .dataframe tbody tr th:only-of-type {\n",
              "        vertical-align: middle;\n",
              "    }\n",
              "\n",
              "    .dataframe tbody tr th {\n",
              "        vertical-align: top;\n",
              "    }\n",
              "\n",
              "    .dataframe thead th {\n",
              "        text-align: right;\n",
              "    }\n",
              "</style>\n",
              "<table border=\"1\" class=\"dataframe\">\n",
              "  <thead>\n",
              "    <tr style=\"text-align: right;\">\n",
              "      <th></th>\n",
              "      <th>movieId</th>\n",
              "      <th>imdbId</th>\n",
              "      <th>tmdbId</th>\n",
              "      <th>title</th>\n",
              "      <th>genres</th>\n",
              "      <th>year</th>\n",
              "      <th>overview</th>\n",
              "      <th>img_path</th>\n",
              "    </tr>\n",
              "  </thead>\n",
              "  <tbody>\n",
              "    <tr>\n",
              "      <th>0</th>\n",
              "      <td>1</td>\n",
              "      <td>tt0114709</td>\n",
              "      <td>862</td>\n",
              "      <td>Toy Story</td>\n",
              "      <td>Animation, Adventure, Family, Comedy</td>\n",
              "      <td>1995</td>\n",
              "      <td>Led by Woody, Andy's toys live happily in his ...</td>\n",
              "      <td>https://image.tmdb.org/t/p/w500/uXDfjJbdP4ijW5...</td>\n",
              "    </tr>\n",
              "    <tr>\n",
              "      <th>1</th>\n",
              "      <td>2</td>\n",
              "      <td>tt0113497</td>\n",
              "      <td>8844</td>\n",
              "      <td>Jumanji</td>\n",
              "      <td>Adventure, Fantasy, Family</td>\n",
              "      <td>1995</td>\n",
              "      <td>When siblings Judy and Peter discover an encha...</td>\n",
              "      <td>https://image.tmdb.org/t/p/w500/vgpXmVaVyUL7GG...</td>\n",
              "    </tr>\n",
              "    <tr>\n",
              "      <th>2</th>\n",
              "      <td>3</td>\n",
              "      <td>tt0113228</td>\n",
              "      <td>15602</td>\n",
              "      <td>Grumpier Old Men</td>\n",
              "      <td>Romance, Comedy</td>\n",
              "      <td>1995</td>\n",
              "      <td>A family wedding reignites the ancient feud be...</td>\n",
              "      <td>https://image.tmdb.org/t/p/w500/1FSXpj5e8l4KH6...</td>\n",
              "    </tr>\n",
              "    <tr>\n",
              "      <th>3</th>\n",
              "      <td>4</td>\n",
              "      <td>tt0114885</td>\n",
              "      <td>31357</td>\n",
              "      <td>Waiting to Exhale</td>\n",
              "      <td>Comedy, Drama, Romance</td>\n",
              "      <td>1995</td>\n",
              "      <td>Cheated on, mistreated and stepped on, the wom...</td>\n",
              "      <td>https://image.tmdb.org/t/p/w500/4uw6HKq4vlhrSV...</td>\n",
              "    </tr>\n",
              "    <tr>\n",
              "      <th>4</th>\n",
              "      <td>5</td>\n",
              "      <td>tt0113041</td>\n",
              "      <td>11862</td>\n",
              "      <td>Father of the Bride Part II</td>\n",
              "      <td>Comedy, Family</td>\n",
              "      <td>1995</td>\n",
              "      <td>Just when George Banks has recovered from his ...</td>\n",
              "      <td>https://image.tmdb.org/t/p/w500/rj4LBtwQ0uGrpB...</td>\n",
              "    </tr>\n",
              "    <tr>\n",
              "      <th>...</th>\n",
              "      <td>...</td>\n",
              "      <td>...</td>\n",
              "      <td>...</td>\n",
              "      <td>...</td>\n",
              "      <td>...</td>\n",
              "      <td>...</td>\n",
              "      <td>...</td>\n",
              "      <td>...</td>\n",
              "    </tr>\n",
              "    <tr>\n",
              "      <th>19519</th>\n",
              "      <td>208403</td>\n",
              "      <td>tt0316352</td>\n",
              "      <td>256452</td>\n",
              "      <td>One Hell of a Christmas</td>\n",
              "      <td>Crime, Action, Comedy</td>\n",
              "      <td>2002</td>\n",
              "      <td>\"One Hell of a Christmas\" is a dark and action...</td>\n",
              "      <td>https://image.tmdb.org/t/p/w500/tDfM6aqf4XYun6...</td>\n",
              "    </tr>\n",
              "    <tr>\n",
              "      <th>19520</th>\n",
              "      <td>208405</td>\n",
              "      <td>tt0220025</td>\n",
              "      <td>108871</td>\n",
              "      <td>School's Out</td>\n",
              "      <td>Horror, Mystery, Thriller</td>\n",
              "      <td>1999</td>\n",
              "      <td>A group of seniors decide to have a party in t...</td>\n",
              "      <td>https://image.tmdb.org/t/p/w500/4osh6Wu8cfzDVc...</td>\n",
              "    </tr>\n",
              "    <tr>\n",
              "      <th>19521</th>\n",
              "      <td>208407</td>\n",
              "      <td>tt0138647</td>\n",
              "      <td>32947</td>\n",
              "      <td>Angel of the Night</td>\n",
              "      <td>Horror</td>\n",
              "      <td>1998</td>\n",
              "      <td>Rebecca has inherited her grandmother's Gothic...</td>\n",
              "      <td>https://image.tmdb.org/t/p/w500/A1dsQQ1DUKzOpA...</td>\n",
              "    </tr>\n",
              "    <tr>\n",
              "      <th>19522</th>\n",
              "      <td>208411</td>\n",
              "      <td>tt0287665</td>\n",
              "      <td>101604</td>\n",
              "      <td>Eternal Blood</td>\n",
              "      <td>Horror, Fantasy, Thriller</td>\n",
              "      <td>2002</td>\n",
              "      <td>Carmila is introduced by 'M' to a sinister rol...</td>\n",
              "      <td>https://image.tmdb.org/t/p/w500/oX5pBME2LlpU6z...</td>\n",
              "    </tr>\n",
              "    <tr>\n",
              "      <th>19523</th>\n",
              "      <td>208804</td>\n",
              "      <td>tt6398496</td>\n",
              "      <td>549690</td>\n",
              "      <td>Spell</td>\n",
              "      <td>Thriller, Drama, Comedy</td>\n",
              "      <td>2018</td>\n",
              "      <td>After the death of his fiancée, an American il...</td>\n",
              "      <td>https://image.tmdb.org/t/p/w500/5Y7J1VIKfJyBPZ...</td>\n",
              "    </tr>\n",
              "  </tbody>\n",
              "</table>\n",
              "<p>19524 rows × 8 columns</p>\n",
              "</div>\n",
              "      <button class=\"colab-df-convert\" onclick=\"convertToInteractive('df-fe0a48e7-deb5-4c16-b2a2-181646c05f4b')\"\n",
              "              title=\"Convert this dataframe to an interactive table.\"\n",
              "              style=\"display:none;\">\n",
              "        \n",
              "  <svg xmlns=\"http://www.w3.org/2000/svg\" height=\"24px\"viewBox=\"0 0 24 24\"\n",
              "       width=\"24px\">\n",
              "    <path d=\"M0 0h24v24H0V0z\" fill=\"none\"/>\n",
              "    <path d=\"M18.56 5.44l.94 2.06.94-2.06 2.06-.94-2.06-.94-.94-2.06-.94 2.06-2.06.94zm-11 1L8.5 8.5l.94-2.06 2.06-.94-2.06-.94L8.5 2.5l-.94 2.06-2.06.94zm10 10l.94 2.06.94-2.06 2.06-.94-2.06-.94-.94-2.06-.94 2.06-2.06.94z\"/><path d=\"M17.41 7.96l-1.37-1.37c-.4-.4-.92-.59-1.43-.59-.52 0-1.04.2-1.43.59L10.3 9.45l-7.72 7.72c-.78.78-.78 2.05 0 2.83L4 21.41c.39.39.9.59 1.41.59.51 0 1.02-.2 1.41-.59l7.78-7.78 2.81-2.81c.8-.78.8-2.07 0-2.86zM5.41 20L4 18.59l7.72-7.72 1.47 1.35L5.41 20z\"/>\n",
              "  </svg>\n",
              "      </button>\n",
              "      \n",
              "  <style>\n",
              "    .colab-df-container {\n",
              "      display:flex;\n",
              "      flex-wrap:wrap;\n",
              "      gap: 12px;\n",
              "    }\n",
              "\n",
              "    .colab-df-convert {\n",
              "      background-color: #E8F0FE;\n",
              "      border: none;\n",
              "      border-radius: 50%;\n",
              "      cursor: pointer;\n",
              "      display: none;\n",
              "      fill: #1967D2;\n",
              "      height: 32px;\n",
              "      padding: 0 0 0 0;\n",
              "      width: 32px;\n",
              "    }\n",
              "\n",
              "    .colab-df-convert:hover {\n",
              "      background-color: #E2EBFA;\n",
              "      box-shadow: 0px 1px 2px rgba(60, 64, 67, 0.3), 0px 1px 3px 1px rgba(60, 64, 67, 0.15);\n",
              "      fill: #174EA6;\n",
              "    }\n",
              "\n",
              "    [theme=dark] .colab-df-convert {\n",
              "      background-color: #3B4455;\n",
              "      fill: #D2E3FC;\n",
              "    }\n",
              "\n",
              "    [theme=dark] .colab-df-convert:hover {\n",
              "      background-color: #434B5C;\n",
              "      box-shadow: 0px 1px 3px 1px rgba(0, 0, 0, 0.15);\n",
              "      filter: drop-shadow(0px 1px 2px rgba(0, 0, 0, 0.3));\n",
              "      fill: #FFFFFF;\n",
              "    }\n",
              "  </style>\n",
              "\n",
              "      <script>\n",
              "        const buttonEl =\n",
              "          document.querySelector('#df-fe0a48e7-deb5-4c16-b2a2-181646c05f4b button.colab-df-convert');\n",
              "        buttonEl.style.display =\n",
              "          google.colab.kernel.accessAllowed ? 'block' : 'none';\n",
              "\n",
              "        async function convertToInteractive(key) {\n",
              "          const element = document.querySelector('#df-fe0a48e7-deb5-4c16-b2a2-181646c05f4b');\n",
              "          const dataTable =\n",
              "            await google.colab.kernel.invokeFunction('convertToInteractive',\n",
              "                                                     [key], {});\n",
              "          if (!dataTable) return;\n",
              "\n",
              "          const docLinkHtml = 'Like what you see? Visit the ' +\n",
              "            '<a target=\"_blank\" href=https://colab.research.google.com/notebooks/data_table.ipynb>data table notebook</a>'\n",
              "            + ' to learn more about interactive tables.';\n",
              "          element.innerHTML = '';\n",
              "          dataTable['output_type'] = 'display_data';\n",
              "          await google.colab.output.renderOutput(dataTable, element);\n",
              "          const docLink = document.createElement('div');\n",
              "          docLink.innerHTML = docLinkHtml;\n",
              "          element.appendChild(docLink);\n",
              "        }\n",
              "      </script>\n",
              "    </div>\n",
              "  </div>\n",
              "  "
            ]
          },
          "metadata": {},
          "execution_count": 54
        }
      ]
    }
  ]
}