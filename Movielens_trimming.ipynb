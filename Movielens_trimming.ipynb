{
  "nbformat": 4,
  "nbformat_minor": 0,
  "metadata": {
    "colab": {
      "provenance": [],
      "authorship_tag": "ABX9TyN/u6XFfe2TNDMtC+toKPv/",
      "include_colab_link": true
    },
    "kernelspec": {
      "name": "python3",
      "display_name": "Python 3"
    },
    "language_info": {
      "name": "python"
    }
  },
  "cells": [
    {
      "cell_type": "markdown",
      "metadata": {
        "id": "view-in-github",
        "colab_type": "text"
      },
      "source": [
        "<a href=\"https://colab.research.google.com/github/maancham/Research-Materials/blob/main/Movielens_trimming.ipynb\" target=\"_parent\"><img src=\"https://colab.research.google.com/assets/colab-badge.svg\" alt=\"Open In Colab\"/></a>"
      ]
    },
    {
      "cell_type": "code",
      "execution_count": 128,
      "metadata": {
        "colab": {
          "base_uri": "https://localhost:8080/"
        },
        "id": "9ybdB8r41PTg",
        "outputId": "4ec54774-4ec1-40fe-fe80-df9ab76fc94d"
      },
      "outputs": [
        {
          "output_type": "stream",
          "name": "stdout",
          "text": [
            "Drive already mounted at /content/drive; to attempt to forcibly remount, call drive.mount(\"/content/drive\", force_remount=True).\n"
          ]
        }
      ],
      "source": [
        "import pandas as pd\n",
        "import numpy as np\n",
        "import re\n",
        "from scipy import stats\n",
        "\n",
        "from google.colab import drive\n",
        "drive.mount('/content/drive')"
      ]
    },
    {
      "cell_type": "code",
      "source": [
        "%%capture\n",
        "!pip install wget\n",
        "!pip install csv2tsv\n",
        "import wget"
      ],
      "metadata": {
        "id": "n6CoT_Eq15RY"
      },
      "execution_count": 2,
      "outputs": []
    },
    {
      "cell_type": "code",
      "source": [
        "%%capture\n",
        "wget.download('https://files.grouplens.org/datasets/movielens/ml-25m.zip')\n",
        "!unzip ml-25m.zip"
      ],
      "metadata": {
        "id": "l3_5hyq816TQ"
      },
      "execution_count": 3,
      "outputs": []
    },
    {
      "cell_type": "code",
      "source": [
        "df = pd.read_csv('/content/ml-25m/ratings.csv')\n",
        "movie_df = pd.read_csv('/content/ml-25m/movies.csv')"
      ],
      "metadata": {
        "id": "nrJCNe1q2Avm"
      },
      "execution_count": 165,
      "outputs": []
    },
    {
      "cell_type": "code",
      "source": [
        "def extract_year(title):\n",
        "  if(len(title) > 7):\n",
        "    year = title[-7:]\n",
        "    return year[year.find(\"(\")+1:year.find(\")\")]\n",
        "  else:\n",
        "    return None\n",
        "\n",
        "movie_df['year'] = movie_df['title'].apply(extract_year)\n",
        "movie_df['year'] = pd.to_numeric(movie_df['year'], errors='coerce')\n",
        "movie_df = movie_df[movie_df['year'].notna()]\n",
        "movie_df['year'] = movie_df.loc[:, 'year'].astype(int)\n",
        "\n",
        "\n",
        "movie_df['title'] = movie_df['title'].str.replace('\\(.*$', '')\n",
        "movie_df['genres'] = movie_df['genres'].str.replace('|', ' ')\n",
        "\n",
        "movie_df = movie_df[movie_df['year'] >= 1970]\n",
        "movieId_list = movie_df['movieId'].to_list()"
      ],
      "metadata": {
        "colab": {
          "base_uri": "https://localhost:8080/"
        },
        "id": "85bBRB3U4tCW",
        "outputId": "675d6c32-e132-450f-feaf-cca6e302aa98"
      },
      "execution_count": 166,
      "outputs": [
        {
          "output_type": "stream",
          "name": "stderr",
          "text": [
            "<ipython-input-166-0950ff6328c9>:14: FutureWarning: The default value of regex will change from True to False in a future version.\n",
            "  movie_df['title'] = movie_df['title'].str.replace('\\(.*$', '')\n",
            "<ipython-input-166-0950ff6328c9>:15: FutureWarning: The default value of regex will change from True to False in a future version. In addition, single character regular expressions will *not* be treated as literal strings when regex=True.\n",
            "  movie_df['genres'] = movie_df['genres'].str.replace('|', ' ')\n"
          ]
        }
      ]
    },
    {
      "cell_type": "code",
      "source": [
        "df = df[df['movieId'].isin(movieId_list)]\n",
        "by_user_rating = df.groupby(by = 'userId').count().rating\n",
        "low_userIds = by_user_rating[by_user_rating < 20].index.to_list()\n",
        "df = df[~df['userId'].isin(low_userIds)]"
      ],
      "metadata": {
        "id": "SFlNITSZ60ik"
      },
      "execution_count": 167,
      "outputs": []
    },
    {
      "cell_type": "markdown",
      "source": [
        "### Dataset extension part:"
      ],
      "metadata": {
        "id": "yJQSU1eNKMkh"
      }
    },
    {
      "cell_type": "code",
      "source": [
        "new_user_df = pd.read_csv('/content/drive/MyDrive/research/new user ratings/new_user_houmch.csv', \n",
        "                          index_col=0)\n",
        "new_ratings = new_user_df[['userId', 'movieId', 'rating', 'timestamp']]\n",
        "new_df = pd.concat([df, new_ratings])\n",
        "assert(len(df) + len(new_user_df) == len(new_df))\n",
        "\n",
        "col_names = ['user_id:token','item_id:token','rating:float', 'timestamp:float']\n",
        "new_df.columns = col_names\n",
        "\n",
        "\n",
        "file_name = 'ml-25m.inter'\n",
        "path = 'drive/MyDrive/research/atomic files/' + file_name\n",
        "new_df.to_csv(path, sep=\"\\t\", index=False)"
      ],
      "metadata": {
        "id": "bz9v7H8ZKOVS"
      },
      "execution_count": 168,
      "outputs": []
    },
    {
      "cell_type": "code",
      "source": [
        "item_cols = ['movieId', 'title', 'year', 'genres']\n",
        "movie_df = movie_df[item_cols]\n",
        "\n",
        "icol_names = ['item_id:token', 'movie_title:token_seq', 'release_year:token', 'class:token_seq']\n",
        "movie_df.columns = icol_names\n",
        "\n",
        "file_name = 'ml-25m.item'\n",
        "path = 'drive/MyDrive/research/atomic files/' + file_name\n",
        "movie_df.to_csv(path, index=False)"
      ],
      "metadata": {
        "id": "2YdQv2H1KSDI"
      },
      "execution_count": 169,
      "outputs": []
    }
  ]
}