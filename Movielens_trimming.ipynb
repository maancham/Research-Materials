{
  "nbformat": 4,
  "nbformat_minor": 0,
  "metadata": {
    "colab": {
      "provenance": [],
      "authorship_tag": "ABX9TyM7Jsr9Z1EYW/B+nngtCWY0",
      "include_colab_link": true
    },
    "kernelspec": {
      "name": "python3",
      "display_name": "Python 3"
    },
    "language_info": {
      "name": "python"
    }
  },
  "cells": [
    {
      "cell_type": "markdown",
      "metadata": {
        "id": "view-in-github",
        "colab_type": "text"
      },
      "source": [
        "<a href=\"https://colab.research.google.com/github/maancham/Research-Materials/blob/main/Movielens_trimming.ipynb\" target=\"_parent\"><img src=\"https://colab.research.google.com/assets/colab-badge.svg\" alt=\"Open In Colab\"/></a>"
      ]
    },
    {
      "cell_type": "code",
      "execution_count": null,
      "metadata": {
        "id": "9ybdB8r41PTg"
      },
      "outputs": [],
      "source": [
        "import pandas as pd\n",
        "pd.options.mode.chained_assignment = None\n",
        "import numpy as np\n",
        "import re\n",
        "from scipy import stats\n",
        "\n",
        "from google.colab import drive\n",
        "# drive.mount('/content/drive')"
      ]
    },
    {
      "cell_type": "code",
      "source": [
        "%%capture\n",
        "!pip install wget\n",
        "!pip install csv2tsv\n",
        "import wget"
      ],
      "metadata": {
        "id": "n6CoT_Eq15RY"
      },
      "execution_count": null,
      "outputs": []
    },
    {
      "cell_type": "code",
      "source": [
        "%%capture\n",
        "wget.download('https://files.grouplens.org/datasets/movielens/ml-25m.zip')\n",
        "!unzip ml-25m.zip"
      ],
      "metadata": {
        "id": "l3_5hyq816TQ"
      },
      "execution_count": null,
      "outputs": []
    },
    {
      "cell_type": "code",
      "source": [
        "df = pd.read_csv('/content/ml-25m/ratings.csv')\n",
        "movie_df = pd.read_csv('/content/ml-25m/movies.csv')"
      ],
      "metadata": {
        "id": "nrJCNe1q2Avm"
      },
      "execution_count": null,
      "outputs": []
    },
    {
      "cell_type": "code",
      "source": [
        "min_year = 1975\n",
        "min_interaction = 10"
      ],
      "metadata": {
        "id": "N5bT3Q8hnZHm"
      },
      "execution_count": null,
      "outputs": []
    },
    {
      "cell_type": "code",
      "source": [
        "print(\"number of movies before filtering: \", len(movie_df))"
      ],
      "metadata": {
        "colab": {
          "base_uri": "https://localhost:8080/"
        },
        "id": "uMJuzB5ZnhEf",
        "outputId": "e82d7bda-31fa-4006-f88b-4473843f5159"
      },
      "execution_count": null,
      "outputs": [
        {
          "output_type": "stream",
          "name": "stdout",
          "text": [
            "number of movies before filtering:  62423\n"
          ]
        }
      ]
    },
    {
      "cell_type": "code",
      "source": [
        "movie_df = pd.read_csv('/content/ml-25m/movies.csv')\n",
        "\n",
        "def extract_year(title):\n",
        "  if(len(title) > 7):\n",
        "    year = title[-7:]\n",
        "    return year[year.find(\"(\")+1:year.find(\")\")]\n",
        "  else:\n",
        "    return None\n",
        "\n",
        "movie_df['year'] = movie_df['title'].apply(extract_year)\n",
        "movie_df['year'] = pd.to_numeric(movie_df['year'], errors='coerce')\n",
        "movie_df = movie_df[movie_df['year'].notna()]\n",
        "movie_df['year'] = movie_df.loc[:, 'year'].astype(int)\n",
        "\n",
        "\n",
        "movie_df['title'] = movie_df['title'].str.replace(r'\\(.*$', '', regex=True)\n",
        "movie_df['genres'] = movie_df['genres'].str.replace(r'|', ' ', regex=True)\n",
        "\n",
        "### Filtering based on released year\n",
        "movie_df = movie_df[movie_df['year'] >= min_year]\n",
        "\n",
        "### Filtering based on genre availability\n",
        "movie_df = movie_df[movie_df['genres'] != '(no genres listed)']\n",
        "\n",
        "movieId_list = movie_df['movieId'].to_list()"
      ],
      "metadata": {
        "id": "85bBRB3U4tCW"
      },
      "execution_count": null,
      "outputs": []
    },
    {
      "cell_type": "code",
      "source": [
        "print(\"number of movies after filtering: \", len(movie_df))"
      ],
      "metadata": {
        "colab": {
          "base_uri": "https://localhost:8080/"
        },
        "id": "lr5N322-nypg",
        "outputId": "6831a36a-d0cb-47f7-d3cf-bbaa08418f3b"
      },
      "execution_count": null,
      "outputs": [
        {
          "output_type": "stream",
          "name": "stdout",
          "text": [
            "number of movies after filtering:  43934\n"
          ]
        }
      ]
    },
    {
      "cell_type": "markdown",
      "source": [
        "### User analysis"
      ],
      "metadata": {
        "id": "R4BDHw0Gn2M4"
      }
    },
    {
      "cell_type": "code",
      "source": [
        "print(\"number of interactions before filtering: \", len(df))\n",
        "df = df[df['movieId'].isin(movieId_list)]\n",
        "print(\"number of interactions after filtering: \", len(df))"
      ],
      "metadata": {
        "colab": {
          "base_uri": "https://localhost:8080/"
        },
        "id": "wDFVryi3n4ki",
        "outputId": "63eebf36-337b-4c69-d97f-46728530d873"
      },
      "execution_count": null,
      "outputs": [
        {
          "output_type": "stream",
          "name": "stdout",
          "text": [
            "number of interactions before filtering:  23196449\n",
            "number of interactions after filtering:  22662702\n"
          ]
        }
      ]
    },
    {
      "cell_type": "code",
      "source": [
        "merged_df = pd.merge(df, movie_df, on='movieId')\n",
        "by_user_rating = merged_df.groupby(by = 'userId').mean()"
      ],
      "metadata": {
        "id": "v6LKZC66qoUl"
      },
      "execution_count": null,
      "outputs": []
    },
    {
      "cell_type": "code",
      "source": [
        "by_movie = merged_df.groupby(by = 'movieId').count()"
      ],
      "metadata": {
        "id": "JgUVfEoK0a23"
      },
      "execution_count": null,
      "outputs": []
    },
    {
      "cell_type": "code",
      "source": [
        "by_movie.sort_values('userId', ascending=False)[:500].sum()"
      ],
      "metadata": {
        "colab": {
          "base_uri": "https://localhost:8080/"
        },
        "id": "8dcMbZ_61XQW",
        "outputId": "13ee9ce2-ff6c-421d-8b01-871119771a25"
      },
      "execution_count": null,
      "outputs": [
        {
          "output_type": "execute_result",
          "data": {
            "text/plain": [
              "userId       10648566\n",
              "rating       10648566\n",
              "timestamp    10648566\n",
              "title        10648566\n",
              "genres       10648566\n",
              "year         10648566\n",
              "dtype: int64"
            ]
          },
          "metadata": {},
          "execution_count": 67
        }
      ]
    },
    {
      "cell_type": "code",
      "source": [
        "unknown_movies = by_movie[by_movie['userId'] <= min_interaction].index.to_list()\n",
        "super_temp = movie_df[~movie_df['movieId'].isin(unknown_movies)]\n",
        "super_temp_idlist = super_temp['movieId'].to_list()\n",
        "len(df[df['movieId'].isin(super_temp_idlist)])"
      ],
      "metadata": {
        "colab": {
          "base_uri": "https://localhost:8080/"
        },
        "id": "i9bZFsUz0p3G",
        "outputId": "c12a9b5b-c7d5-4b15-baee-4d61a48b8a48"
      },
      "execution_count": null,
      "outputs": [
        {
          "output_type": "execute_result",
          "data": {
            "text/plain": [
              "22580182"
            ]
          },
          "metadata": {},
          "execution_count": 48
        }
      ]
    },
    {
      "cell_type": "code",
      "source": [
        "old_users = by_user_rating[by_user_rating['year'] <= 1985].index.to_list()\n",
        "merged_df[merged_df['userId'].isin(old_users)]"
      ],
      "metadata": {
        "colab": {
          "base_uri": "https://localhost:8080/",
          "height": 424
        },
        "id": "eBNJbj-jvN9L",
        "outputId": "a093bff6-7cf7-440a-e1f1-04ca3bc40988"
      },
      "execution_count": null,
      "outputs": [
        {
          "output_type": "execute_result",
          "data": {
            "text/plain": [
              "          userId  movieId  rating   timestamp                 title  \\\n",
              "863         1756      296     5.0   955125006         Pulp Fiction    \n",
              "7392       15128      296     5.0   943205645         Pulp Fiction    \n",
              "9585       19637      296     5.0   955406536         Pulp Fiction    \n",
              "11760      24105      296     4.0   946050563         Pulp Fiction    \n",
              "22266      45549      296     4.0   953010495         Pulp Fiction    \n",
              "...          ...      ...     ...         ...                   ...   \n",
              "22587738  159177    96933     3.0  1435134541              Despair    \n",
              "22589337  116426     3123     3.0  1018669350           Lauderdale    \n",
              "22604809  159177   126432     5.0  1435134437  Visitor to a Museum    \n",
              "22625696  159177    32797     3.5  1435134518         Satan's Brew    \n",
              "22646975  159177   118091     4.5  1435134462  Farewell to Matyora    \n",
              "\n",
              "                               genres  year  \n",
              "863       Comedy Crime Drama Thriller  1994  \n",
              "7392      Comedy Crime Drama Thriller  1994  \n",
              "9585      Comedy Crime Drama Thriller  1994  \n",
              "11760     Comedy Crime Drama Thriller  1994  \n",
              "22266     Comedy Crime Drama Thriller  1994  \n",
              "...                               ...   ...  \n",
              "22587738                Drama Fantasy  1978  \n",
              "22589337                       Comedy  1989  \n",
              "22604809                       Sci-Fi  1989  \n",
              "22625696                 Comedy Drama  1976  \n",
              "22646975                        Drama  1983  \n",
              "\n",
              "[14336 rows x 7 columns]"
            ],
            "text/html": [
              "\n",
              "  <div id=\"df-e18abf34-4520-4b61-a1f4-98faaf51975f\">\n",
              "    <div class=\"colab-df-container\">\n",
              "      <div>\n",
              "<style scoped>\n",
              "    .dataframe tbody tr th:only-of-type {\n",
              "        vertical-align: middle;\n",
              "    }\n",
              "\n",
              "    .dataframe tbody tr th {\n",
              "        vertical-align: top;\n",
              "    }\n",
              "\n",
              "    .dataframe thead th {\n",
              "        text-align: right;\n",
              "    }\n",
              "</style>\n",
              "<table border=\"1\" class=\"dataframe\">\n",
              "  <thead>\n",
              "    <tr style=\"text-align: right;\">\n",
              "      <th></th>\n",
              "      <th>userId</th>\n",
              "      <th>movieId</th>\n",
              "      <th>rating</th>\n",
              "      <th>timestamp</th>\n",
              "      <th>title</th>\n",
              "      <th>genres</th>\n",
              "      <th>year</th>\n",
              "    </tr>\n",
              "  </thead>\n",
              "  <tbody>\n",
              "    <tr>\n",
              "      <th>863</th>\n",
              "      <td>1756</td>\n",
              "      <td>296</td>\n",
              "      <td>5.0</td>\n",
              "      <td>955125006</td>\n",
              "      <td>Pulp Fiction</td>\n",
              "      <td>Comedy Crime Drama Thriller</td>\n",
              "      <td>1994</td>\n",
              "    </tr>\n",
              "    <tr>\n",
              "      <th>7392</th>\n",
              "      <td>15128</td>\n",
              "      <td>296</td>\n",
              "      <td>5.0</td>\n",
              "      <td>943205645</td>\n",
              "      <td>Pulp Fiction</td>\n",
              "      <td>Comedy Crime Drama Thriller</td>\n",
              "      <td>1994</td>\n",
              "    </tr>\n",
              "    <tr>\n",
              "      <th>9585</th>\n",
              "      <td>19637</td>\n",
              "      <td>296</td>\n",
              "      <td>5.0</td>\n",
              "      <td>955406536</td>\n",
              "      <td>Pulp Fiction</td>\n",
              "      <td>Comedy Crime Drama Thriller</td>\n",
              "      <td>1994</td>\n",
              "    </tr>\n",
              "    <tr>\n",
              "      <th>11760</th>\n",
              "      <td>24105</td>\n",
              "      <td>296</td>\n",
              "      <td>4.0</td>\n",
              "      <td>946050563</td>\n",
              "      <td>Pulp Fiction</td>\n",
              "      <td>Comedy Crime Drama Thriller</td>\n",
              "      <td>1994</td>\n",
              "    </tr>\n",
              "    <tr>\n",
              "      <th>22266</th>\n",
              "      <td>45549</td>\n",
              "      <td>296</td>\n",
              "      <td>4.0</td>\n",
              "      <td>953010495</td>\n",
              "      <td>Pulp Fiction</td>\n",
              "      <td>Comedy Crime Drama Thriller</td>\n",
              "      <td>1994</td>\n",
              "    </tr>\n",
              "    <tr>\n",
              "      <th>...</th>\n",
              "      <td>...</td>\n",
              "      <td>...</td>\n",
              "      <td>...</td>\n",
              "      <td>...</td>\n",
              "      <td>...</td>\n",
              "      <td>...</td>\n",
              "      <td>...</td>\n",
              "    </tr>\n",
              "    <tr>\n",
              "      <th>22587738</th>\n",
              "      <td>159177</td>\n",
              "      <td>96933</td>\n",
              "      <td>3.0</td>\n",
              "      <td>1435134541</td>\n",
              "      <td>Despair</td>\n",
              "      <td>Drama Fantasy</td>\n",
              "      <td>1978</td>\n",
              "    </tr>\n",
              "    <tr>\n",
              "      <th>22589337</th>\n",
              "      <td>116426</td>\n",
              "      <td>3123</td>\n",
              "      <td>3.0</td>\n",
              "      <td>1018669350</td>\n",
              "      <td>Lauderdale</td>\n",
              "      <td>Comedy</td>\n",
              "      <td>1989</td>\n",
              "    </tr>\n",
              "    <tr>\n",
              "      <th>22604809</th>\n",
              "      <td>159177</td>\n",
              "      <td>126432</td>\n",
              "      <td>5.0</td>\n",
              "      <td>1435134437</td>\n",
              "      <td>Visitor to a Museum</td>\n",
              "      <td>Sci-Fi</td>\n",
              "      <td>1989</td>\n",
              "    </tr>\n",
              "    <tr>\n",
              "      <th>22625696</th>\n",
              "      <td>159177</td>\n",
              "      <td>32797</td>\n",
              "      <td>3.5</td>\n",
              "      <td>1435134518</td>\n",
              "      <td>Satan's Brew</td>\n",
              "      <td>Comedy Drama</td>\n",
              "      <td>1976</td>\n",
              "    </tr>\n",
              "    <tr>\n",
              "      <th>22646975</th>\n",
              "      <td>159177</td>\n",
              "      <td>118091</td>\n",
              "      <td>4.5</td>\n",
              "      <td>1435134462</td>\n",
              "      <td>Farewell to Matyora</td>\n",
              "      <td>Drama</td>\n",
              "      <td>1983</td>\n",
              "    </tr>\n",
              "  </tbody>\n",
              "</table>\n",
              "<p>14336 rows × 7 columns</p>\n",
              "</div>\n",
              "      <button class=\"colab-df-convert\" onclick=\"convertToInteractive('df-e18abf34-4520-4b61-a1f4-98faaf51975f')\"\n",
              "              title=\"Convert this dataframe to an interactive table.\"\n",
              "              style=\"display:none;\">\n",
              "        \n",
              "  <svg xmlns=\"http://www.w3.org/2000/svg\" height=\"24px\"viewBox=\"0 0 24 24\"\n",
              "       width=\"24px\">\n",
              "    <path d=\"M0 0h24v24H0V0z\" fill=\"none\"/>\n",
              "    <path d=\"M18.56 5.44l.94 2.06.94-2.06 2.06-.94-2.06-.94-.94-2.06-.94 2.06-2.06.94zm-11 1L8.5 8.5l.94-2.06 2.06-.94-2.06-.94L8.5 2.5l-.94 2.06-2.06.94zm10 10l.94 2.06.94-2.06 2.06-.94-2.06-.94-.94-2.06-.94 2.06-2.06.94z\"/><path d=\"M17.41 7.96l-1.37-1.37c-.4-.4-.92-.59-1.43-.59-.52 0-1.04.2-1.43.59L10.3 9.45l-7.72 7.72c-.78.78-.78 2.05 0 2.83L4 21.41c.39.39.9.59 1.41.59.51 0 1.02-.2 1.41-.59l7.78-7.78 2.81-2.81c.8-.78.8-2.07 0-2.86zM5.41 20L4 18.59l7.72-7.72 1.47 1.35L5.41 20z\"/>\n",
              "  </svg>\n",
              "      </button>\n",
              "      \n",
              "  <style>\n",
              "    .colab-df-container {\n",
              "      display:flex;\n",
              "      flex-wrap:wrap;\n",
              "      gap: 12px;\n",
              "    }\n",
              "\n",
              "    .colab-df-convert {\n",
              "      background-color: #E8F0FE;\n",
              "      border: none;\n",
              "      border-radius: 50%;\n",
              "      cursor: pointer;\n",
              "      display: none;\n",
              "      fill: #1967D2;\n",
              "      height: 32px;\n",
              "      padding: 0 0 0 0;\n",
              "      width: 32px;\n",
              "    }\n",
              "\n",
              "    .colab-df-convert:hover {\n",
              "      background-color: #E2EBFA;\n",
              "      box-shadow: 0px 1px 2px rgba(60, 64, 67, 0.3), 0px 1px 3px 1px rgba(60, 64, 67, 0.15);\n",
              "      fill: #174EA6;\n",
              "    }\n",
              "\n",
              "    [theme=dark] .colab-df-convert {\n",
              "      background-color: #3B4455;\n",
              "      fill: #D2E3FC;\n",
              "    }\n",
              "\n",
              "    [theme=dark] .colab-df-convert:hover {\n",
              "      background-color: #434B5C;\n",
              "      box-shadow: 0px 1px 3px 1px rgba(0, 0, 0, 0.15);\n",
              "      filter: drop-shadow(0px 1px 2px rgba(0, 0, 0, 0.3));\n",
              "      fill: #FFFFFF;\n",
              "    }\n",
              "  </style>\n",
              "\n",
              "      <script>\n",
              "        const buttonEl =\n",
              "          document.querySelector('#df-e18abf34-4520-4b61-a1f4-98faaf51975f button.colab-df-convert');\n",
              "        buttonEl.style.display =\n",
              "          google.colab.kernel.accessAllowed ? 'block' : 'none';\n",
              "\n",
              "        async function convertToInteractive(key) {\n",
              "          const element = document.querySelector('#df-e18abf34-4520-4b61-a1f4-98faaf51975f');\n",
              "          const dataTable =\n",
              "            await google.colab.kernel.invokeFunction('convertToInteractive',\n",
              "                                                     [key], {});\n",
              "          if (!dataTable) return;\n",
              "\n",
              "          const docLinkHtml = 'Like what you see? Visit the ' +\n",
              "            '<a target=\"_blank\" href=https://colab.research.google.com/notebooks/data_table.ipynb>data table notebook</a>'\n",
              "            + ' to learn more about interactive tables.';\n",
              "          element.innerHTML = '';\n",
              "          dataTable['output_type'] = 'display_data';\n",
              "          await google.colab.output.renderOutput(dataTable, element);\n",
              "          const docLink = document.createElement('div');\n",
              "          docLink.innerHTML = docLinkHtml;\n",
              "          element.appendChild(docLink);\n",
              "        }\n",
              "      </script>\n",
              "    </div>\n",
              "  </div>\n",
              "  "
            ]
          },
          "metadata": {},
          "execution_count": 29
        }
      ]
    },
    {
      "cell_type": "code",
      "source": [
        "df = df[df['movieId'].isin(movieId_list)]\n",
        "by_user_rating = df.groupby(by = 'userId').count().rating\n",
        "low_userIds = by_user_rating[by_user_rating < 20].index.to_list()\n",
        "df = df[~df['userId'].isin(low_userIds)]"
      ],
      "metadata": {
        "id": "SFlNITSZ60ik"
      },
      "execution_count": null,
      "outputs": []
    },
    {
      "cell_type": "markdown",
      "source": [
        "### Dataset extension part:"
      ],
      "metadata": {
        "id": "yJQSU1eNKMkh"
      }
    },
    {
      "cell_type": "code",
      "source": [
        "new_user_df = pd.read_csv('/content/drive/MyDrive/research/new user ratings/new_user_houmch.csv', \n",
        "                          index_col=0)\n",
        "new_ratings = new_user_df[['userId', 'movieId', 'rating', 'timestamp']]\n",
        "new_df = pd.concat([df, new_ratings])\n",
        "assert(len(df) + len(new_user_df) == len(new_df))\n",
        "\n",
        "col_names = ['user_id:token','item_id:token','rating:float', 'timestamp:float']\n",
        "new_df.columns = col_names\n",
        "\n",
        "\n",
        "file_name = 'ml-25m.inter'\n",
        "path = 'drive/MyDrive/research/atomic files/' + file_name\n",
        "new_df.to_csv(path, sep=\"\\t\", index=False)"
      ],
      "metadata": {
        "id": "bz9v7H8ZKOVS"
      },
      "execution_count": null,
      "outputs": []
    },
    {
      "cell_type": "code",
      "source": [
        "item_cols = ['movieId', 'title', 'year', 'genres']\n",
        "movie_df = movie_df[item_cols]\n",
        "\n",
        "icol_names = ['item_id:token', 'movie_title:token_seq', 'release_year:token', 'class:token_seq']\n",
        "movie_df.columns = icol_names\n",
        "\n",
        "file_name = 'ml-25m.item'\n",
        "path = 'drive/MyDrive/research/atomic files/' + file_name\n",
        "movie_df.to_csv(path, index=False)"
      ],
      "metadata": {
        "id": "2YdQv2H1KSDI"
      },
      "execution_count": null,
      "outputs": []
    }
  ]
}