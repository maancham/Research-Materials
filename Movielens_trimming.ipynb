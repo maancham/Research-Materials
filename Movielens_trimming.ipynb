{
  "nbformat": 4,
  "nbformat_minor": 0,
  "metadata": {
    "colab": {
      "provenance": [],
      "collapsed_sections": [
        "yJQSU1eNKMkh"
      ],
      "authorship_tag": "ABX9TyMMvKd5lRsSI2Id5HvGGHSx",
      "include_colab_link": true
    },
    "kernelspec": {
      "name": "python3",
      "display_name": "Python 3"
    },
    "language_info": {
      "name": "python"
    }
  },
  "cells": [
    {
      "cell_type": "markdown",
      "metadata": {
        "id": "view-in-github",
        "colab_type": "text"
      },
      "source": [
        "<a href=\"https://colab.research.google.com/github/maancham/Research-Materials/blob/main/Movielens_trimming.ipynb\" target=\"_parent\"><img src=\"https://colab.research.google.com/assets/colab-badge.svg\" alt=\"Open In Colab\"/></a>"
      ]
    },
    {
      "cell_type": "code",
      "source": [
        "%%capture\n",
        "!pip install wget\n",
        "!pip install csv2tsv\n",
        "!pip install tmdbv3api"
      ],
      "metadata": {
        "id": "n6CoT_Eq15RY"
      },
      "execution_count": 2,
      "outputs": []
    },
    {
      "cell_type": "code",
      "execution_count": 32,
      "metadata": {
        "id": "9ybdB8r41PTg",
        "colab": {
          "base_uri": "https://localhost:8080/"
        },
        "outputId": "851bf0e4-d6f3-4dcb-848f-75ac2d8524e2"
      },
      "outputs": [
        {
          "output_type": "stream",
          "name": "stdout",
          "text": [
            "Mounted at /content/drive\n"
          ]
        }
      ],
      "source": [
        "import pandas as pd\n",
        "import numpy as np\n",
        "import re\n",
        "from scipy import stats\n",
        "import wget\n",
        "from urllib.request import urlopen\n",
        "import requests\n",
        "import time\n",
        "import tqdm\n",
        "\n",
        "pd.options.mode.chained_assignment = None\n",
        "\n",
        "from google.colab import drive\n",
        "drive.mount('/content/drive')"
      ]
    },
    {
      "cell_type": "code",
      "source": [
        "%%capture\n",
        "wget.download('https://files.grouplens.org/datasets/movielens/ml-25m.zip')\n",
        "!unzip ml-25m.zip\n",
        "\n",
        "df = pd.read_csv('/content/ml-25m/ratings.csv')\n",
        "movie_df = pd.read_csv('/content/ml-25m/movies.csv')\n",
        "link_df = pd.read_csv('/content/ml-25m/links.csv')"
      ],
      "metadata": {
        "id": "l3_5hyq816TQ"
      },
      "execution_count": 4,
      "outputs": []
    },
    {
      "cell_type": "markdown",
      "source": [
        "## Filtering:\n",
        "Those movies who does not have a TMDB page or an image path will be dropped from the dataset since we can not show their details on the django website"
      ],
      "metadata": {
        "id": "Vl4EptiRvQYn"
      }
    },
    {
      "cell_type": "code",
      "source": [
        "broken_movieIds = []\n",
        "data = urlopen('https://raw.githubusercontent.com/maancham/Research-Materials/main/tmdb_unknown')\n",
        "for line in data:\n",
        "    broken_movieIds.append(int(re.findall(r'\\d+', str(line))[0]))"
      ],
      "metadata": {
        "id": "yqJHViR1iBom"
      },
      "execution_count": 5,
      "outputs": []
    },
    {
      "cell_type": "markdown",
      "source": [
        "Filter link_df: drop where imdb or tmdb is none\n",
        "collect brokens (404 response) and no imgs (add the other list to git)\n",
        "In function: keep movies where their id is in link_df + their id is not in brokens or no imgs "
      ],
      "metadata": {
        "id": "jLyTZURRzARJ"
      }
    },
    {
      "cell_type": "code",
      "source": [
        "def extract_year(title):\n",
        "  if(len(title) > 7):\n",
        "    year = title[-7:]\n",
        "    return year[year.find(\"(\")+1:year.find(\")\")]\n",
        "  else:\n",
        "    return None\n",
        "  \n",
        "def filter_data(min_year, movie_df, df, n_core_movies = 10, n_core_users = 20):\n",
        "  movie_df['year'] = movie_df['title'].apply(extract_year)\n",
        "  movie_df['year'] = pd.to_numeric(movie_df['year'], errors='coerce')\n",
        "  movie_df = movie_df[movie_df['year'].notna()]\n",
        "  movie_df['year'] = movie_df.loc[:, 'year'].astype(int)\n",
        "\n",
        "  movie_df['title'] = movie_df['title'].str.replace(r'\\(.*$', '', regex=True)\n",
        "  movie_df['genres'] = movie_df['genres'].str.replace(r'|', ' ', regex=True)\n",
        "\n",
        "  ### Filtering based on released year\n",
        "  movie_df = movie_df[movie_df['year'] >= min_year]\n",
        "\n",
        "  ### Filtering based on genre availability\n",
        "  movie_df = movie_df[movie_df['genres'] != '(no genres listed)']\n",
        "\n",
        "\n",
        "  merged_df = pd.merge(df, movie_df, on='movieId')\n",
        "\n",
        "  by_movie = merged_df.groupby(by = 'movieId').count()\n",
        "  unknown_movies = by_movie[by_movie['userId'] < n_core_movies].index.to_list()\n",
        "  unknown_movies.extend(link_df[link_df['tmdbId'].isnull()].movieId.to_list())\n",
        "\n",
        "  movie_df = movie_df[~movie_df['movieId'].isin(unknown_movies)]\n",
        "  movie_df = movie_df[~movie_df['movieId'].isin(broken_movieIds)]\n",
        "\n",
        "  df = df[df['movieId'].isin(movie_df['movieId'].to_list())]\n",
        "  by_user_rating = df.groupby(by = 'userId').count().rating\n",
        "  low_userIds = by_user_rating[by_user_rating < n_core_users].index.to_list()\n",
        "  df = df[~df['userId'].isin(low_userIds)]\n",
        "  df.reset_index(inplace=True, drop=True)\n",
        "\n",
        "  return movie_df, df"
      ],
      "metadata": {
        "id": "D_6KC_gaMrCL"
      },
      "execution_count": 6,
      "outputs": []
    },
    {
      "cell_type": "code",
      "source": [
        "movie_df, df = filter_data(1950, movie_df, df, 20, 50)\n",
        "\n",
        "print(\"Number of interactions: \", len(df))\n",
        "print(\"Number of items: \", len(movie_df))"
      ],
      "metadata": {
        "colab": {
          "base_uri": "https://localhost:8080/"
        },
        "id": "4Jcrpo3aNBdI",
        "outputId": "3884f63a-5607-4759-c57f-b89a4b0e09a0"
      },
      "execution_count": 7,
      "outputs": [
        {
          "output_type": "stream",
          "name": "stdout",
          "text": [
            "Number of interactions:  22302542\n",
            "Number of items:  19348\n"
          ]
        }
      ]
    },
    {
      "cell_type": "markdown",
      "source": [
        "## Saving movies for django backend:"
      ],
      "metadata": {
        "id": "02vyTn67yzuo"
      }
    },
    {
      "cell_type": "code",
      "source": [
        "from tmdbv3api import TMDb\n",
        "from tmdbv3api import Movie\n",
        "\n",
        "API_KEY = ''\n",
        "\n",
        "tmdb = TMDb()\n",
        "tmdb.api_key = API_KEY"
      ],
      "metadata": {
        "id": "Idjlw0nc6kwc"
      },
      "execution_count": 8,
      "outputs": []
    },
    {
      "cell_type": "code",
      "source": [
        "tmdb_correction_dict = {\n",
        "    12773 : 427910,  ## Navy Seals, movieId 4207\n",
        "    58423 : 417859, ## Puss in Boots, movieId 90647\n",
        "}\n",
        "\n",
        "link_df = link_df.replace({\"tmdbId\": tmdb_correction_dict})\n",
        "\n",
        "\n",
        "link_df = link_df[link_df['tmdbId'].notna()]\n",
        "link_df['tmdbId'] = link_df['tmdbId'].astype(np.int64)\n",
        "\n",
        "merged_movie_df = pd.merge(link_df, movie_df, on='movieId')\n",
        "merged_movie_df['imdbId'] = merged_movie_df['imdbId'].apply(lambda x: 'tt' + str(x).rjust(7, '0'))\n",
        "\n",
        "merged_movie_df['overview'] = ''\n",
        "merged_movie_df['img_path'] = ''\n",
        "merged_movie_df['runtime'] = 0\n",
        "merged_movie_df['cast'] = ''\n",
        "merged_movie_df['directors'] = ''\n",
        "merged_movie_df['languages'] = ''\n",
        "merged_movie_df['map'] = ''"
      ],
      "metadata": {
        "id": "T3iShKC3z_ms"
      },
      "execution_count": 21,
      "outputs": []
    },
    {
      "cell_type": "code",
      "source": [
        "\n",
        "movie = Movie()\n",
        "\n",
        "for i, row in tqdm.tqdm(merged_movie_df.iterrows(), total=merged_movie_df.shape[0]):\n",
        "  try:\n",
        "    m = movie.details(row['tmdbId'])\n",
        "    url = 'https://api.themoviedb.org/3/movie/' + str(row['tmdbId']) + '/credits?api_key=' + API_KEY\n",
        "    tmdb_output = requests.get(url).json()\n",
        "\n",
        "    merged_movie_df.at[i, 'title'] = m.title\n",
        "    merged_movie_df.at[i, 'imdbId'] = m.imdb_id\n",
        "    merged_movie_df.at[i, 'overview'] = m.overview\n",
        "    merged_movie_df.at[i, 'runtime'] = int(m.runtime)\n",
        "\n",
        "    for result in m.release_dates['results']:\n",
        "      if result['iso_3166_1'] == 'US':\n",
        "       merged_movie_df.at[i, 'map'] = result['release_dates'][0]['certification']\n",
        "\n",
        "    if (m.poster_path):\n",
        "      img_path = 'https://image.tmdb.org/t/p/w500' + m.poster_path\n",
        "    else:\n",
        "      img_path = None\n",
        "    merged_movie_df.at[i, 'img_path'] = img_path\n",
        "\n",
        "    genres = ''\n",
        "    for item in m.genres:\n",
        "      genres += item['name']\n",
        "      genres += ', '\n",
        "\n",
        "    cast_count = 0\n",
        "    cast = ''\n",
        "    for person in tmdb_output['cast']:\n",
        "      if (cast_count == 5):\n",
        "        break\n",
        "      cast += person['name']\n",
        "      cast += ', '\n",
        "      cast_count += 1\n",
        "\n",
        "    directors = ''\n",
        "    for crew in tmdb_output['crew']:\n",
        "      if (crew['job'] == 'Director'):\n",
        "        directors += crew['name']\n",
        "        directors += ', '\n",
        "\n",
        "    langs = ''\n",
        "    for lang in m.spoken_languages:\n",
        "      langs += lang['name']\n",
        "      langs += ', '\n",
        "\n",
        "    genres = genres.rstrip(', ')\n",
        "    cast = cast.rstrip(', ')\n",
        "    directors = directors.rstrip(', ')\n",
        "    langs = langs.rstrip(', ')\n",
        "\n",
        "    merged_movie_df.at[i, 'genres'] = genres\n",
        "    merged_movie_df.at[i, 'directors'] = directors\n",
        "    merged_movie_df.at[i, 'cast'] = cast\n",
        "    merged_movie_df.at[i, 'languages'] = langs\n",
        "\n",
        "  except:\n",
        "    print(row['movieId'])"
      ],
      "metadata": {
        "id": "AdOU4yZl7Q2o",
        "colab": {
          "base_uri": "https://localhost:8080/"
        },
        "outputId": "617906c2-0904-42f2-ad9a-bc4308e38eeb"
      },
      "execution_count": 22,
      "outputs": [
        {
          "output_type": "stream",
          "name": "stderr",
          "text": [
            "100%|██████████| 19348/19348 [1:32:48<00:00,  3.47it/s]\n"
          ]
        }
      ]
    },
    {
      "cell_type": "markdown",
      "source": [
        "### Final checks before saving:"
      ],
      "metadata": {
        "id": "PS9w74RhJjik"
      }
    },
    {
      "cell_type": "code",
      "source": [
        "\"\"\"\n",
        "tests: \n",
        "make sure all links are clickable\n",
        "check for empty field in: language, genre, cast, director, map, runtime\n",
        "check distinct map values, trim values if necessary\n",
        "\"\"\"\n",
        "\"\"\"\n",
        "movieId, year, runtime: int\n",
        "title, overview, imdbId, tmdbId: str\n",
        "img_path: link\n",
        "genres, directors, cast, languages, map: str\n",
        "\"\"\"\n",
        "\n",
        "# merged_movie_df['runtime'].replace([np.nan, None], 0, inplace=True)\n",
        "\n",
        "# merged_movie_df[merged_movie_df['runtime'] == 0]"
      ],
      "metadata": {
        "id": "6tO-m0mVI2e4"
      },
      "execution_count": null,
      "outputs": []
    },
    {
      "cell_type": "code",
      "source": [
        "file_name = 'movies.csv'\n",
        "path = 'drive/MyDrive/research/' + file_name\n",
        "merged_movie_df.to_csv(path, index=False)"
      ],
      "metadata": {
        "id": "WVBnqnPmy6eW"
      },
      "execution_count": 44,
      "outputs": []
    },
    {
      "cell_type": "markdown",
      "source": [
        "## Dataset extension part:"
      ],
      "metadata": {
        "id": "yJQSU1eNKMkh"
      }
    },
    {
      "cell_type": "code",
      "source": [
        "new_user_df = pd.read_csv('/content/drive/MyDrive/research/new user ratings/new_user_houmch.csv', \n",
        "                          index_col=0)\n",
        "new_ratings = new_user_df[['userId', 'movieId', 'rating', 'timestamp']]\n",
        "new_df = pd.concat([df, new_ratings])\n",
        "assert(len(df) + len(new_user_df) == len(new_df))\n",
        "\n",
        "col_names = ['user_id:token','item_id:token','rating:float', 'timestamp:float']\n",
        "new_df.columns = col_names\n",
        "\n",
        "\n",
        "file_name = 'ml-25m.inter'\n",
        "path = 'drive/MyDrive/research/atomic files/' + file_name\n",
        "new_df.to_csv(path, sep=\"\\t\", index=False)"
      ],
      "metadata": {
        "id": "bz9v7H8ZKOVS"
      },
      "execution_count": null,
      "outputs": []
    },
    {
      "cell_type": "code",
      "source": [
        "item_cols = ['movieId', 'title', 'year', 'genres']\n",
        "movie_df = movie_df[item_cols]\n",
        "\n",
        "icol_names = ['item_id:token', 'movie_title:token_seq', 'release_year:token', 'class:token_seq']\n",
        "movie_df.columns = icol_names\n",
        "\n",
        "file_name = 'ml-25m.item'\n",
        "path = 'drive/MyDrive/research/atomic files/' + file_name\n",
        "movie_df.to_csv(path, sep=\"\\t\", index=False)"
      ],
      "metadata": {
        "id": "2YdQv2H1KSDI"
      },
      "execution_count": null,
      "outputs": []
    }
  ]
}